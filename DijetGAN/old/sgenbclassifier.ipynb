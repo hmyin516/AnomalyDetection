{
 "cells": [
  {
   "cell_type": "code",
   "execution_count": 1,
   "id": "c387c018-4347-4fa4-8c29-5689dd0ad5dc",
   "metadata": {},
   "outputs": [],
   "source": [
    "import pandas as pd\n",
    "import tensorflow as tf\n",
    "from tensorflow import keras\n",
    "from tensorflow.keras import layers\n",
    "from sklearn.preprocessing import MinMaxScaler\n",
    "from sklearn.model_selection import train_test_split\n",
    "import numpy as np\n",
    "import gc\n",
    "import matplotlib.pyplot as plt\n",
    "\n",
    "from sklearn.preprocessing import StandardScaler\n",
    "from sklearn.metrics import roc_curve\n",
    "from sklearn.metrics import auc"
   ]
  },
  {
   "cell_type": "code",
   "execution_count": 2,
   "id": "a6c94ae8-af01-433a-a584-96eccbe6e5d8",
   "metadata": {},
   "outputs": [],
   "source": [
    "NOISE_DIM = 128 # 64 in Gitlab\n",
    "TESTING= False\n",
    "BATCH_SIZE = 64\n",
    "SAMPLE_SIZE= 50000\n",
    "BINS = 25"
   ]
  },
  {
   "cell_type": "code",
   "execution_count": 3,
   "id": "62f54d9e-d36a-491c-98b8-6c90c82aee61",
   "metadata": {},
   "outputs": [],
   "source": [
    "filenames = {\n",
    "    \"herwig\": \"../GAN-data/events_anomalydetection_DelphesHerwig_qcd_features.h5\",\n",
    "    \"pythiabg\": \"../GAN-data/events_anomalydetection_DelphesPythia8_v2_qcd_features.h5\",\n",
    "    \"pythiasig\": \"../GAN-data/events_anomalydetection_DelphesPythia8_v2_Wprime_features.h5\"\n",
    "}\n",
    "\n",
    "datatypes = [\"herwig\", \"pythiabg\", \"pythiasig\"]\n",
    "\n",
    "train_features = [\"ptj1\", \"etaj1\", \"mj1\", \"ptj2\", \"etaj2\", \"phij2\", \"mj2\", \"tau21j1\", \"tau21j2\"]\n",
    "condition_features = [\"mjj\"]\n",
    "\n",
    "features = train_features + condition_features\n",
    "GEN_DIM = NOISE_DIM + len(condition_features)\n",
    "DISC_DIM = len(features)"
   ]
  },
  {
   "cell_type": "code",
   "execution_count": 4,
   "id": "47ff5465-b43c-4cfd-86c8-5720f3acd618",
   "metadata": {},
   "outputs": [
    {
     "data": {
      "text/plain": [
       "9"
      ]
     },
     "execution_count": 4,
     "metadata": {},
     "output_type": "execute_result"
    }
   ],
   "source": [
    "def cut_data(uncut_data, pTmin = 1200, etamax = 2.5):\n",
    "    # Column 0: ptj1\n",
    "    # Column 1: etaj1\n",
    "    # Column 3: ptj2\n",
    "    # Column 4: etaj2\n",
    "    return uncut_data[((uncut_data[:,0] > pTmin) & (np.abs(uncut_data[:,1]) < etamax)) | ((uncut_data[:,3] > pTmin) & (np.abs(uncut_data[:,4]) < etamax))]\n",
    "\n",
    "np_bg_SB = np.load('./data/processed/np_bg_SB_2.npy')\n",
    "np_bg_SR = np.load('./data/processed/np_bg_SR_2.npy')\n",
    "np_sig_SR = np.load('./data/processed/np_sig_SR_2.npy')\n",
    "\n",
    "np_sig_SR_labeled = np.copy(np_sig_SR)\n",
    "np_bg_SR_labeled = np.copy(np_bg_SR)\n",
    "#add sb label\n",
    "np_sig_SR_labeled = np.append(np_sig_SR_labeled,np.ones([len(np_sig_SR),1]),1)\n",
    "np_bg_SR_labeled = np.append(np_bg_SR_labeled,np.zeros([len(np_bg_SR),1]),1)\n",
    "\n",
    "np_combined_SR = np.concatenate((np_bg_SR, np_sig_SR), axis = 0)\n",
    "np_combined_SR_labeled = np.concatenate((np_sig_SR_labeled,np_bg_SR_labeled),axis=0)\n",
    "\n",
    "gc.collect()"
   ]
  },
  {
   "cell_type": "code",
   "execution_count": 5,
   "id": "84aeb856-e6ab-42df-862f-6df2c05df53f",
   "metadata": {},
   "outputs": [],
   "source": [
    "def generate_gan(generator, realdata):\n",
    "\n",
    "    labels = sample_fake(refdata = realdata, size = SAMPLE_SIZE) # Sample mjj from the existing distribution of mjj for comparison\n",
    "    labels_scaled = scaler_mjj.transform(labels.reshape(-1,1))\n",
    "    fakedata_uncut_unscaled = generator(tf.concat([tf.random.uniform((SAMPLE_SIZE, NOISE_DIM)), labels_scaled], 1), training=False)\n",
    "    fakedata_uncut = np.concatenate((scaler.inverse_transform(fakedata_uncut_unscaled), labels.reshape(-1,1)), axis = 1)\n",
    "\n",
    "    # At least one jet has pT > 1200 and |eta| < 2.5\n",
    "    fakedata = cut_data(fakedata_uncut)\n",
    "    # mjj = sqrt(Ejj**2 - pxjj**2 - pyjj**2 - pzjj**2)\n",
    "    fakedata_mjj = mjj(fakedata)\n",
    "    return fakedata\n",
    "def mjj(output):\n",
    "    pt1 = output[:,0]\n",
    "    eta1 = output[:,1]\n",
    "    m1 = output[:,2]\n",
    "    pt2 = output[:,3]\n",
    "    eta2 = output[:,4]\n",
    "    phi2 = output[:,5]\n",
    "    m2 = output[:,6]\n",
    "    ejj = np.sqrt((pt1 * np.cosh(eta1))**2 + m1**2) + np.sqrt((pt2 * np.cosh(eta2))**2 + m2**2)\n",
    "    pxjj = pt1 + pt2 * np.cos(phi2)\n",
    "    pyjj = pt2 * np.sin(phi2)\n",
    "    pzjj = pt1 * np.sinh(eta1) + pt2 * np.sinh(eta2)\n",
    "    return np.sqrt(ejj**2 - pxjj**2 - pyjj**2 - pzjj**2)\n",
    "def sample_fake(refdata = np_combined_SR, size = BATCH_SIZE):\n",
    "    rand_idx = np.random.choice(refdata.shape[0], size = size)\n",
    "    return refdata[rand_idx, -1].reshape((-1,1))\n",
    "def sample_data(refdata = np_combined_SR_labeled,size= 10000):\n",
    "    rand_idx = np.random.choice(refdata.shape[0], size)\n",
    "    return refdata[rand_idx, :]\n"
   ]
  },
  {
   "cell_type": "code",
   "execution_count": 6,
   "id": "20d9180e-fcc9-4711-a81c-e38d3425543b",
   "metadata": {},
   "outputs": [],
   "source": [
    "np_bg_SB_trimmed = np.delete(np_bg_SB, [i for i in range(np_bg_SB.shape[0] % (BATCH_SIZE * 4))], axis = 0)\n",
    "\n",
    "# Normalize inputs between -1 and 1, mjj between 0 and 1\n",
    "scaler = MinMaxScaler((-1,1)).fit(np_bg_SB_trimmed[:,:-1])\n",
    "scaler_mjj = MinMaxScaler((0,1)).fit(np_bg_SB_trimmed[:,-1].reshape(-1,1))\n",
    "np_bg_SB_scaled = np.concatenate((scaler.transform(np_bg_SB_trimmed[:,:-1]), scaler_mjj.transform(np_bg_SB_trimmed[:,-1].reshape(-1,1))), axis = 1)"
   ]
  },
  {
   "cell_type": "code",
   "execution_count": 7,
   "id": "96a439f0-37fe-4f8e-89cd-34d4cf1e8199",
   "metadata": {},
   "outputs": [
    {
     "name": "stdout",
     "output_type": "stream",
     "text": [
      "WARNING:tensorflow:No training configuration found in save file: the model was *not* compiled. Compile it manually.\n"
     ]
    }
   ],
   "source": [
    "gen_model = tf.keras.models.load_model('./Results/epoch1000-generator.h5')"
   ]
  },
  {
   "cell_type": "code",
   "execution_count": 8,
   "id": "fa6607ee-8203-4397-b428-6b879ea9ef9e",
   "metadata": {},
   "outputs": [],
   "source": [
    "generated_data = generate_gan(gen_model,np_combined_SR)\n",
    "generated_data2 = generate_gan(gen_model,np_combined_SR)\n",
    "generated_data = np.concatenate((generated_data,generated_data2), axis = 0)\n",
    "generated_data_labeled  = np.copy(generated_data)\n",
    "generated_data_labeled = np.append(generated_data_labeled,np.zeros([len(generated_data_labeled),1]),1)"
   ]
  },
  {
   "cell_type": "code",
   "execution_count": 9,
   "id": "7534f4f5-e868-4c61-9e56-a2ae52f79cf2",
   "metadata": {},
   "outputs": [],
   "source": [
    "METRICS = [\n",
    "      keras.metrics.TruePositives(name='tp'),\n",
    "      keras.metrics.FalsePositives(name='fp'),\n",
    "      keras.metrics.TrueNegatives(name='tn'),\n",
    "      keras.metrics.FalseNegatives(name='fn'), \n",
    "      keras.metrics.BinaryAccuracy(name='accuracy'),\n",
    "      keras.metrics.Precision(name='precision'),\n",
    "      keras.metrics.Recall(name='recall'),\n",
    "      keras.metrics.AUC(name='auc'),\n",
    "      \n",
    "]\n",
    "def classifier_model():    \n",
    "    model = tf.keras.Sequential()\n",
    "    model.add(layers.Dense(64,input_dim = 4,activation ='relu'))\n",
    "    model.add(layers.Dropout(0.1))\n",
    "    model.add(layers.Dense(64,activation = 'relu'))\n",
    "    model.add(layers.Dropout(0.1))\n",
    "    model.add(layers.Dense(64,activation = 'relu'))\n",
    "    model.add(layers.Dropout(0.1))\n",
    "    model.add(layers.Dense(64,activation = 'relu'))\n",
    "    model.add(layers.Dropout(0.1))\n",
    "    model.add(layers.Dense(1, activation = 'sigmoid'))\n",
    "    model.compile(optimizer='adam',loss='binary_crossentropy',metrics=[METRICS])\n",
    "    return model\n",
    "\n",
    "def learningCurveLoss(history):\n",
    "    plt.figure(figsize=(10,8))\n",
    "    plt.plot(history.history['loss'], linewidth=1)\n",
    "    plt.plot(history.history['val_loss'], linewidth=1)\n",
    "    plt.title('Model Loss over Epochs')\n",
    "    plt.ylabel('Loss')\n",
    "    #plt.ylim(0,5)\n",
    "    plt.xlabel('Epoch')\n",
    "    plt.legend(['training sample loss','validation sample loss'])\n",
    "    plt.savefig('5_tag_learning_curve.png')\n",
    "    plt.show()\n",
    "    plt.close()\n",
    "    #plt.savefig(\"Learning_Curve\")\n",
    "def plot_roc_curve(y_test, y_test_score):\n",
    "\n",
    "    fpr, tpr, _ = roc_curve(y_test, y_test_score)\n",
    "    auc_value = auc(fpr, tpr)\n",
    "    plt.figure()\n",
    "    plt.plot(fpr, tpr,label=' AUC = %.1f%%'%(auc_value*100.))\n",
    "    plt.plot([0, 1], [0, 1], 'k-')\n",
    "\n",
    "    plt.xlabel('False Positive Rate')\n",
    "    plt.ylabel('True Positive Rate')\n",
    "    plt.title('ROC')\n",
    "    plt.legend(loc='lower right')\n",
    "    plt.show()\n"
   ]
  },
  {
   "cell_type": "code",
   "execution_count": 11,
   "id": "844de376-3cc0-410e-92f2-b3f912033f69",
   "metadata": {},
   "outputs": [
    {
     "data": {
      "image/png": "[encoded data removed]",
      "text/plain": [
       "<Figure size 432x288 with 1 Axes>"
      ]
     },
     "metadata": {
      "needs_background": "light"
     },
     "output_type": "display_data"
    },
    {
     "data": {
      "image/png": "[encoded data removed]",
      "text/plain": [
       "<Figure size 432x288 with 1 Axes>"
      ]
     },
     "metadata": {
      "needs_background": "light"
     },
     "output_type": "display_data"
    },
    {
     "data": {
      "image/png": "[encoded data removed]",
      "text/plain": [
       "<Figure size 432x288 with 1 Axes>"
      ]
     },
     "metadata": {
      "needs_background": "light"
     },
     "output_type": "display_data"
    },
    {
     "data": {
      "image/png": "[encoded data removed]",
      "text/plain": [
       "<Figure size 432x288 with 1 Axes>"
      ]
     },
     "metadata": {
      "needs_background": "light"
     },
     "output_type": "display_data"
    },
    {
     "data": {
      "image/png": "[encoded data removed]",
      "text/plain": [
       "<Figure size 432x288 with 1 Axes>"
      ]
     },
     "metadata": {
      "needs_background": "light"
     },
     "output_type": "display_data"
    },
    {
     "data": {
      "image/png": "[encoded data removed]",
      "text/plain": [
       "<Figure size 432x288 with 1 Axes>"
      ]
     },
     "metadata": {
      "needs_background": "light"
     },
     "output_type": "display_data"
    },
    {
     "data": {
      "image/png": "[encoded data removed]",
      "text/plain": [
       "<Figure size 432x288 with 1 Axes>"
      ]
     },
     "metadata": {
      "needs_background": "light"
     },
     "output_type": "display_data"
    },
    {
     "data": {
      "image/png": "[encoded data removed]",
      "text/plain": [
       "<Figure size 432x288 with 1 Axes>"
      ]
     },
     "metadata": {
      "needs_background": "light"
     },
     "output_type": "display_data"
    },
    {
     "data": {
      "image/png": "[encoded data removed]",
      "text/plain": [
       "<Figure size 432x288 with 1 Axes>"
      ]
     },
     "metadata": {
      "needs_background": "light"
     },
     "output_type": "display_data"
    },
    {
     "data": {
      "image/png": "[encoded data removed]",
      "text/plain": [
       "<Figure size 432x288 with 1 Axes>"
      ]
     },
     "metadata": {
      "needs_background": "light"
     },
     "output_type": "display_data"
    }
   ],
   "source": [
    "for i in range(0,10):\n",
    "    plt.hist(generated_data[:,i],25,alpha=0.6,histtype = 'step',label = 'fake',density = True)\n",
    "    plt.hist(np_sig_SR[:,i],25,alpha = 0.6,histtype = 'step',label = 'real',density = True)\n",
    "    plt.legend()\n",
    "    plt.show()"
   ]
  },
  {
   "cell_type": "code",
   "execution_count": 32,
   "id": "b3b05ac5-2eaa-47e9-bcba-9eea78d2c4f8",
   "metadata": {},
   "outputs": [],
   "source": [
    "def classifier_model():    \n",
    "    model = tf.keras.Sequential()\n",
    "    model.add(layers.Dense(64,input_dim = 4,activation ='relu'))\n",
    "    model.add(layers.Dropout(0.1))\n",
    "    model.add(layers.Dense(64,activation = 'relu'))\n",
    "    model.add(layers.Dropout(0.1))\n",
    "    model.add(layers.Dense(64,activation = 'relu'))\n",
    "    model.add(layers.Dropout(0.1))\n",
    "    model.add(layers.Dense(64,activation = 'relu'))\n",
    "    model.add(layers.Dropout(0.1))\n",
    "    model.add(layers.Dense(1, activation = 'sigmoid'))\n",
    "    model.compile(optimizer='adam',loss='binary_crossentropy',metrics=[METRICS])\n",
    "    return model\n",
    "\n",
    "def learningCurveLoss(history):\n",
    "    plt.figure(figsize=(10,8))\n",
    "    plt.plot(history.history['loss'], linewidth=1)\n",
    "    plt.plot(history.history['val_loss'], linewidth=1)\n",
    "    plt.title('Model Loss over Epochs')\n",
    "    plt.ylabel('Loss')\n",
    "    #plt.ylim(0,5)\n",
    "    plt.xlabel('Epoch')\n",
    "    plt.legend(['training sample loss','validation sample loss'])\n",
    "    plt.savefig('5_tag_learning_curve.png')\n",
    "    plt.show()\n",
    "    plt.close()\n",
    "    #plt.savefig(\"Learning_Curve\")\n",
    "def plot_roc_curve(y_test, y_test_score):\n",
    "\n",
    "    fpr, tpr, _ = roc_curve(y_test, y_test_score)\n",
    "    auc_value = auc(fpr, tpr)\n",
    "    plt.figure()\n",
    "    plt.plot(fpr, tpr,label=' AUC = %.1f%%'%(auc_value*100.))\n",
    "    plt.plot([0, 1], [0, 1], 'k-')\n",
    "\n",
    "    plt.xlabel('False Positive Rate')\n",
    "    plt.ylabel('True Positive Rate')\n",
    "    plt.title('ROC')\n",
    "    plt.legend(loc='lower right')\n",
    "    plt.show()"
   ]
  },
  {
   "cell_type": "code",
   "execution_count": 16,
   "id": "83f6f6f9-6f0b-4a89-8f0f-69a2cb288978",
   "metadata": {},
   "outputs": [
    {
     "name": "stdout",
     "output_type": "stream",
     "text": [
      "Model: \"sequential_1\"\n",
      "_________________________________________________________________\n",
      "Layer (type)                 Output Shape              Param #   \n",
      "=================================================================\n",
      "dense_5 (Dense)              (None, 64)                640       \n",
      "_________________________________________________________________\n",
      "dropout_4 (Dropout)          (None, 64)                0         \n",
      "_________________________________________________________________\n",
      "dense_6 (Dense)              (None, 64)                4160      \n",
      "_________________________________________________________________\n",
      "dropout_5 (Dropout)          (None, 64)                0         \n",
      "_________________________________________________________________\n",
      "dense_7 (Dense)              (None, 64)                4160      \n",
      "_________________________________________________________________\n",
      "dropout_6 (Dropout)          (None, 64)                0         \n",
      "_________________________________________________________________\n",
      "dense_8 (Dense)              (None, 64)                4160      \n",
      "_________________________________________________________________\n",
      "dropout_7 (Dropout)          (None, 64)                0         \n",
      "_________________________________________________________________\n",
      "dense_9 (Dense)              (None, 1)                 65        \n",
      "=================================================================\n",
      "Total params: 13,185\n",
      "Trainable params: 13,185\n",
      "Non-trainable params: 0\n",
      "_________________________________________________________________\n"
     ]
    }
   ],
   "source": [
    "classifier = classifier_model()\n",
    "classifier.summary()"
   ]
  },
  {
   "cell_type": "code",
   "execution_count": 22,
   "id": "7086cbc2-e5eb-4468-8828-810ca2acf03e",
   "metadata": {},
   "outputs": [
    {
     "name": "stdout",
     "output_type": "stream",
     "text": [
      "(150596, 11)\n",
      "(100000, 11)\n"
     ]
    }
   ],
   "source": [
    "dataset = np.concatenate((np_sig_SR_labeled, generated_data_labeled), axis = 0)\n",
    "print(np_sig_SR_labeled.shape)\n",
    "print(generated_data_labeled.shape)"
   ]
  },
  {
   "cell_type": "code",
   "execution_count": 26,
   "id": "fd06444e-954c-433b-813b-e9a7b4c2e1d0",
   "metadata": {},
   "outputs": [],
   "source": [
    "dataset_df = pd.DataFrame(dataset, columns = ['pt1','eta1','m1','pt2','eta2','phi2','m2','tau21j1','tau21j2','mjj','sblabel'])"
   ]
  },
  {
   "cell_type": "code",
   "execution_count": 27,
   "id": "c251dcc8-b683-42a4-b94b-9c9b53e349e1",
   "metadata": {},
   "outputs": [
    {
     "data": {
      "text/html": [
       "<div>\n",
       "<style scoped>\n",
       "    .dataframe tbody tr th:only-of-type {\n",
       "        vertical-align: middle;\n",
       "    }\n",
       "\n",
       "    .dataframe tbody tr th {\n",
       "        vertical-align: top;\n",
       "    }\n",
       "\n",
       "    .dataframe thead th {\n",
       "        text-align: right;\n",
       "    }\n",
       "</style>\n",
       "<table border=\"1\" class=\"dataframe\">\n",
       "  <thead>\n",
       "    <tr style=\"text-align: right;\">\n",
       "      <th></th>\n",
       "      <th>pt1</th>\n",
       "      <th>eta1</th>\n",
       "      <th>m1</th>\n",
       "      <th>pt2</th>\n",
       "      <th>eta2</th>\n",
       "      <th>phi2</th>\n",
       "      <th>m2</th>\n",
       "      <th>tau21j1</th>\n",
       "      <th>tau21j2</th>\n",
       "      <th>mjj</th>\n",
       "      <th>sblabel</th>\n",
       "    </tr>\n",
       "  </thead>\n",
       "  <tbody>\n",
       "    <tr>\n",
       "      <th>0</th>\n",
       "      <td>1914.942993</td>\n",
       "      <td>0.369530</td>\n",
       "      <td>105.035004</td>\n",
       "      <td>1583.804443</td>\n",
       "      <td>-0.185737</td>\n",
       "      <td>2.898982</td>\n",
       "      <td>461.574005</td>\n",
       "      <td>0.552809</td>\n",
       "      <td>0.121353</td>\n",
       "      <td>3662.211182</td>\n",
       "      <td>1.0</td>\n",
       "    </tr>\n",
       "    <tr>\n",
       "      <th>1</th>\n",
       "      <td>1684.598755</td>\n",
       "      <td>-0.523116</td>\n",
       "      <td>159.865997</td>\n",
       "      <td>1647.186768</td>\n",
       "      <td>0.110357</td>\n",
       "      <td>3.141156</td>\n",
       "      <td>514.883972</td>\n",
       "      <td>0.440781</td>\n",
       "      <td>0.299984</td>\n",
       "      <td>3586.710693</td>\n",
       "      <td>1.0</td>\n",
       "    </tr>\n",
       "    <tr>\n",
       "      <th>2</th>\n",
       "      <td>1789.997070</td>\n",
       "      <td>0.156652</td>\n",
       "      <td>93.665901</td>\n",
       "      <td>1569.509399</td>\n",
       "      <td>0.144243</td>\n",
       "      <td>3.235663</td>\n",
       "      <td>475.316986</td>\n",
       "      <td>0.136103</td>\n",
       "      <td>0.135523</td>\n",
       "      <td>3421.777344</td>\n",
       "      <td>1.0</td>\n",
       "    </tr>\n",
       "    <tr>\n",
       "      <th>3</th>\n",
       "      <td>1672.631348</td>\n",
       "      <td>-1.015185</td>\n",
       "      <td>116.327003</td>\n",
       "      <td>1568.322998</td>\n",
       "      <td>-0.350886</td>\n",
       "      <td>3.165926</td>\n",
       "      <td>561.236023</td>\n",
       "      <td>0.617014</td>\n",
       "      <td>0.294746</td>\n",
       "      <td>3536.982910</td>\n",
       "      <td>1.0</td>\n",
       "    </tr>\n",
       "    <tr>\n",
       "      <th>4</th>\n",
       "      <td>1431.694946</td>\n",
       "      <td>-0.700751</td>\n",
       "      <td>513.015991</td>\n",
       "      <td>1099.721313</td>\n",
       "      <td>0.945019</td>\n",
       "      <td>3.245961</td>\n",
       "      <td>108.752998</td>\n",
       "      <td>0.183145</td>\n",
       "      <td>0.456454</td>\n",
       "      <td>3481.573486</td>\n",
       "      <td>1.0</td>\n",
       "    </tr>\n",
       "    <tr>\n",
       "      <th>...</th>\n",
       "      <td>...</td>\n",
       "      <td>...</td>\n",
       "      <td>...</td>\n",
       "      <td>...</td>\n",
       "      <td>...</td>\n",
       "      <td>...</td>\n",
       "      <td>...</td>\n",
       "      <td>...</td>\n",
       "      <td>...</td>\n",
       "      <td>...</td>\n",
       "      <td>...</td>\n",
       "    </tr>\n",
       "    <tr>\n",
       "      <th>250591</th>\n",
       "      <td>1683.837730</td>\n",
       "      <td>-0.470907</td>\n",
       "      <td>169.825177</td>\n",
       "      <td>1712.677758</td>\n",
       "      <td>-0.830393</td>\n",
       "      <td>3.100222</td>\n",
       "      <td>134.681186</td>\n",
       "      <td>0.758864</td>\n",
       "      <td>0.359449</td>\n",
       "      <td>3320.123047</td>\n",
       "      <td>0.0</td>\n",
       "    </tr>\n",
       "    <tr>\n",
       "      <th>250592</th>\n",
       "      <td>1522.080659</td>\n",
       "      <td>0.790946</td>\n",
       "      <td>66.751315</td>\n",
       "      <td>1421.189774</td>\n",
       "      <td>-0.632003</td>\n",
       "      <td>3.177119</td>\n",
       "      <td>84.207564</td>\n",
       "      <td>0.517772</td>\n",
       "      <td>0.534937</td>\n",
       "      <td>3584.108643</td>\n",
       "      <td>0.0</td>\n",
       "    </tr>\n",
       "    <tr>\n",
       "      <th>250593</th>\n",
       "      <td>1708.056036</td>\n",
       "      <td>-0.094127</td>\n",
       "      <td>387.330998</td>\n",
       "      <td>1714.632146</td>\n",
       "      <td>0.311656</td>\n",
       "      <td>3.122409</td>\n",
       "      <td>299.487519</td>\n",
       "      <td>0.551747</td>\n",
       "      <td>0.829335</td>\n",
       "      <td>3432.143555</td>\n",
       "      <td>0.0</td>\n",
       "    </tr>\n",
       "    <tr>\n",
       "      <th>250594</th>\n",
       "      <td>1597.996215</td>\n",
       "      <td>0.585437</td>\n",
       "      <td>445.838345</td>\n",
       "      <td>1610.177851</td>\n",
       "      <td>-0.426327</td>\n",
       "      <td>3.109872</td>\n",
       "      <td>97.620510</td>\n",
       "      <td>0.128635</td>\n",
       "      <td>0.338127</td>\n",
       "      <td>3535.938721</td>\n",
       "      <td>0.0</td>\n",
       "    </tr>\n",
       "    <tr>\n",
       "      <th>250595</th>\n",
       "      <td>1218.386405</td>\n",
       "      <td>-0.453523</td>\n",
       "      <td>274.289803</td>\n",
       "      <td>1167.381453</td>\n",
       "      <td>1.319600</td>\n",
       "      <td>3.151127</td>\n",
       "      <td>139.866903</td>\n",
       "      <td>0.804089</td>\n",
       "      <td>0.448539</td>\n",
       "      <td>3391.170654</td>\n",
       "      <td>0.0</td>\n",
       "    </tr>\n",
       "  </tbody>\n",
       "</table>\n",
       "<p>250596 rows × 11 columns</p>\n",
       "</div>"
      ],
      "text/plain": [
       "                pt1      eta1          m1          pt2      eta2      phi2  \\\n",
       "0       1914.942993  0.369530  105.035004  1583.804443 -0.185737  2.898982   \n",
       "1       1684.598755 -0.523116  159.865997  1647.186768  0.110357  3.141156   \n",
       "2       1789.997070  0.156652   93.665901  1569.509399  0.144243  3.235663   \n",
       "3       1672.631348 -1.015185  116.327003  1568.322998 -0.350886  3.165926   \n",
       "4       1431.694946 -0.700751  513.015991  1099.721313  0.945019  3.245961   \n",
       "...             ...       ...         ...          ...       ...       ...   \n",
       "250591  1683.837730 -0.470907  169.825177  1712.677758 -0.830393  3.100222   \n",
       "250592  1522.080659  0.790946   66.751315  1421.189774 -0.632003  3.177119   \n",
       "250593  1708.056036 -0.094127  387.330998  1714.632146  0.311656  3.122409   \n",
       "250594  1597.996215  0.585437  445.838345  1610.177851 -0.426327  3.109872   \n",
       "250595  1218.386405 -0.453523  274.289803  1167.381453  1.319600  3.151127   \n",
       "\n",
       "                m2   tau21j1   tau21j2          mjj  sblabel  \n",
       "0       461.574005  0.552809  0.121353  3662.211182      1.0  \n",
       "1       514.883972  0.440781  0.299984  3586.710693      1.0  \n",
       "2       475.316986  0.136103  0.135523  3421.777344      1.0  \n",
       "3       561.236023  0.617014  0.294746  3536.982910      1.0  \n",
       "4       108.752998  0.183145  0.456454  3481.573486      1.0  \n",
       "...            ...       ...       ...          ...      ...  \n",
       "250591  134.681186  0.758864  0.359449  3320.123047      0.0  \n",
       "250592   84.207564  0.517772  0.534937  3584.108643      0.0  \n",
       "250593  299.487519  0.551747  0.829335  3432.143555      0.0  \n",
       "250594   97.620510  0.128635  0.338127  3535.938721      0.0  \n",
       "250595  139.866903  0.804089  0.448539  3391.170654      0.0  \n",
       "\n",
       "[250596 rows x 11 columns]"
      ]
     },
     "execution_count": 27,
     "metadata": {},
     "output_type": "execute_result"
    }
   ],
   "source": [
    "dataset_df"
   ]
  },
  {
   "cell_type": "code",
   "execution_count": 33,
   "id": "cdbede27-b310-4d3b-9ca1-22e2f00661e4",
   "metadata": {},
   "outputs": [
    {
     "name": "stdout",
     "output_type": "stream",
     "text": [
      "Train on 150357 samples, validate on 50119 samples\n",
      "Epoch 1/10\n",
      "150357/150357 [==============================] - 6s 39us/sample - loss: 0.7059 - tp: 74924.0000 - fp: 25172.0000 - tn: 35099.0000 - fn: 15162.0000 - accuracy: 0.7317 - precision: 0.7485 - recall: 0.8317 - auc: 0.7591 - val_loss: 0.4544 - val_tp: 25917.0000 - val_fp: 5540.0000 - val_tn: 14489.0000 - val_fn: 4173.0000 - val_accuracy: 0.8062 - val_precision: 0.8239 - val_recall: 0.8613 - val_auc: 0.8605\n",
      "Epoch 2/10\n",
      "150357/150357 [==============================] - 4s 28us/sample - loss: 0.4637 - tp: 76585.0000 - fp: 15295.0000 - tn: 44976.0000 - fn: 13501.0000 - accuracy: 0.8085 - precision: 0.8335 - recall: 0.8501 - auc: 0.8555 - val_loss: 0.4379 - val_tp: 24485.0000 - val_fp: 3610.0000 - val_tn: 16419.0000 - val_fn: 5605.0000 - val_accuracy: 0.8161 - val_precision: 0.8715 - val_recall: 0.8137 - val_auc: 0.8749\n",
      "Epoch 3/10\n",
      "150357/150357 [==============================] - 4s 28us/sample - loss: 0.4328 - tp: 76298.0000 - fp: 12638.0000 - tn: 47633.0000 - fn: 13788.0000 - accuracy: 0.8242 - precision: 0.8579 - recall: 0.8469 - auc: 0.8752 - val_loss: 0.4090 - val_tp: 25506.0000 - val_fp: 3851.0000 - val_tn: 16178.0000 - val_fn: 4584.0000 - val_accuracy: 0.8317 - val_precision: 0.8688 - val_recall: 0.8477 - val_auc: 0.8866\n",
      "Epoch 4/10\n",
      "150357/150357 [==============================] - 4s 28us/sample - loss: 0.4054 - tp: 77200.0000 - fp: 11160.0000 - tn: 49111.0000 - fn: 12886.0000 - accuracy: 0.8401 - precision: 0.8737 - recall: 0.8570 - auc: 0.8918 - val_loss: 0.3749 - val_tp: 25644.0000 - val_fp: 2635.0000 - val_tn: 17394.0000 - val_fn: 4446.0000 - val_accuracy: 0.8587 - val_precision: 0.9068 - val_recall: 0.8522 - val_auc: 0.9153\n",
      "Epoch 5/10\n",
      "150357/150357 [==============================] - 4s 28us/sample - loss: 0.3583 - tp: 79110.0000 - fp: 10058.0000 - tn: 50213.0000 - fn: 10976.0000 - accuracy: 0.8601 - precision: 0.8872 - recall: 0.8782 - auc: 0.9159 - val_loss: 0.3320 - val_tp: 26855.0000 - val_fp: 3478.0000 - val_tn: 16551.0000 - val_fn: 3235.0000 - val_accuracy: 0.8661 - val_precision: 0.8853 - val_recall: 0.8925 - val_auc: 0.9268\n",
      "Epoch 6/10\n",
      "150357/150357 [==============================] - 4s 28us/sample - loss: 0.3215 - tp: 79475.0000 - fp: 9112.0000 - tn: 51159.0000 - fn: 10611.0000 - accuracy: 0.8688 - precision: 0.8971 - recall: 0.8822 - auc: 0.9324 - val_loss: 0.3088 - val_tp: 26809.0000 - val_fp: 2981.0000 - val_tn: 17048.0000 - val_fn: 3281.0000 - val_accuracy: 0.8751 - val_precision: 0.8999 - val_recall: 0.8910 - val_auc: 0.9451\n",
      "Epoch 7/10\n",
      "150357/150357 [==============================] - 4s 28us/sample - loss: 0.2916 - tp: 80127.0000 - fp: 8136.0000 - tn: 52135.0000 - fn: 9959.0000 - accuracy: 0.8797 - precision: 0.9078 - recall: 0.8895 - auc: 0.9452 - val_loss: 0.2595 - val_tp: 27908.0000 - val_fp: 3213.0000 - val_tn: 16816.0000 - val_fn: 2182.0000 - val_accuracy: 0.8924 - val_precision: 0.8968 - val_recall: 0.9275 - val_auc: 0.9590\n",
      "Epoch 8/10\n",
      "150357/150357 [==============================] - 4s 28us/sample - loss: 0.2751 - tp: 80611.0000 - fp: 7842.0000 - tn: 52429.0000 - fn: 9475.0000 - accuracy: 0.8848 - precision: 0.9113 - recall: 0.8948 - auc: 0.9513 - val_loss: 0.2969 - val_tp: 26674.0000 - val_fp: 2844.0000 - val_tn: 17185.0000 - val_fn: 3416.0000 - val_accuracy: 0.8751 - val_precision: 0.9037 - val_recall: 0.8865 - val_auc: 0.9442\n",
      "Epoch 9/10\n",
      "150357/150357 [==============================] - 4s 28us/sample - loss: 0.2662 - tp: 81139.0000 - fp: 7567.0000 - tn: 52704.0000 - fn: 8947.0000 - accuracy: 0.8902 - precision: 0.9147 - recall: 0.9007 - auc: 0.9544 - val_loss: 0.2819 - val_tp: 28025.0000 - val_fp: 3587.0000 - val_tn: 16442.0000 - val_fn: 2065.0000 - val_accuracy: 0.8872 - val_precision: 0.8865 - val_recall: 0.9314 - val_auc: 0.9576\n",
      "Epoch 10/10\n",
      "150357/150357 [==============================] - 4s 28us/sample - loss: 0.2611 - tp: 81272.0000 - fp: 7465.0000 - tn: 52806.0000 - fn: 8814.0000 - accuracy: 0.8917 - precision: 0.9159 - recall: 0.9022 - auc: 0.9562 - val_loss: 0.2957 - val_tp: 27032.0000 - val_fp: 3061.0000 - val_tn: 16968.0000 - val_fn: 3058.0000 - val_accuracy: 0.8779 - val_precision: 0.8983 - val_recall: 0.8984 - val_auc: 0.9452\n"
     ]
    },
    {
     "data": {
      "image/png": "[encoded data removed]",
      "text/plain": [
       "<Figure size 720x576 with 1 Axes>"
      ]
     },
     "metadata": {
      "needs_background": "light"
     },
     "output_type": "display_data"
    }
   ],
   "source": [
    "x_train,x_test,y_train,y_test = train_test_split(dataset[:,[2,6,7,8]],dataset[:,-1], test_size = 0.2, random_state=1) #rf label\n",
    "x_train, x_val, y_train, y_val = train_test_split(x_train, y_train, test_size=0.25, random_state=1) # 0.25 x 0.8 = 0.2, #rflabel\n",
    "\n",
    "classifier = classifier_model()\n",
    "history = classifier.fit(x_train, y_train, epochs=10, batch_size=128,validation_data=(x_val,y_val))\n",
    "learningCurveLoss(history)\n",
    "y_pred = classifier.predict(x_test) #predict on signal vs background in test sample\n",
    "fpr, tpr, thresholds = roc_curve(y_test, y_pred)\n",
    "auc_value = auc(fpr,tpr)\n"
   ]
  },
  {
   "cell_type": "code",
   "execution_count": 35,
   "id": "59beac1e-52b5-424c-b325-ddf62b9b2d0f",
   "metadata": {},
   "outputs": [
    {
     "data": {
      "image/png": "[encoded data removed]",
      "text/plain": [
       "<Figure size 432x288 with 1 Axes>"
      ]
     },
     "metadata": {
      "needs_background": "light"
     },
     "output_type": "display_data"
    }
   ],
   "source": [
    "plot_roc_curve(y_test,y_pred)"
   ]
  },
  {
   "cell_type": "code",
   "execution_count": null,
   "id": "f8934659-da53-40ce-aa4d-fc24492d235f",
   "metadata": {},
   "outputs": [],
   "source": []
  }
 ],
 "metadata": {
  "kernelspec": {
   "display_name": "AD",
   "language": "python",
   "name": "ad"
  },
  "language_info": {
   "codemirror_mode": {
    "name": "ipython",
    "version": 3
   },
   "file_extension": ".py",
   "mimetype": "text/x-python",
   "name": "python",
   "nbconvert_exporter": "python",
   "pygments_lexer": "ipython3",
   "version": "3.6.13"
  }
 },
 "nbformat": 4,
 "nbformat_minor": 5
}
