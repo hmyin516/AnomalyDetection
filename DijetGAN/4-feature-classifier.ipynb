{
 "metadata": {
  "language_info": {
   "codemirror_mode": {
    "name": "ipython",
    "version": 3
   },
   "file_extension": ".py",
   "mimetype": "text/x-python",
   "name": "python",
   "nbconvert_exporter": "python",
   "pygments_lexer": "ipython3",
   "version": "3.6.12"
  },
  "orig_nbformat": 2,
  "kernelspec": {
   "name": "python3612jvsc74a57bd08cfa128f4fb11395d49e92fdd198d725c58b8d3ed6ebf6f1277996a897e1bb89",
   "display_name": "Python 3.6.12 64-bit ('tensorflow-gpu': conda)"
  }
 },
 "nbformat": 4,
 "nbformat_minor": 2,
 "cells": [
  {
   "cell_type": "code",
   "execution_count": 4,
   "metadata": {},
   "outputs": [],
   "source": [
    "import pandas as pd\n",
    "import tensorflow as tf\n",
    "from tensorflow import keras\n",
    "from tensorflow.keras import layers\n",
    "from sklearn.preprocessing import MinMaxScaler\n",
    "from sklearn.model_selection import train_test_split\n",
    "import numpy as np\n",
    "import gc\n",
    "import matplotlib.pyplot as plt\n",
    "from sklearn.preprocessing import StandardScaler\n",
    "from sklearn.metrics import roc_curve\n",
    "from sklearn.metrics import auc"
   ]
  },
  {
   "cell_type": "code",
   "execution_count": 5,
   "metadata": {},
   "outputs": [],
   "source": [
    "NOISE_DIM = 128 # 64 in Gitlab\n",
    "TESTING= False\n",
    "BATCH_SIZE = 64\n",
    "SAMPLE_SIZE= 50000\n",
    "BINS = 25"
   ]
  },
  {
   "cell_type": "code",
   "execution_count": 6,
   "metadata": {},
   "outputs": [],
   "source": [
    "filenames = {\n",
    "    \"herwig\": \"../GAN-data/events_anomalydetection_DelphesHerwig_qcd_features.h5\",\n",
    "    \"pythiabg\": \"../GAN-data/events_anomalydetection_DelphesPythia8_v2_qcd_features.h5\",\n",
    "    \"pythiasig\": \"../GAN-data/events_anomalydetection_DelphesPythia8_v2_Wprime_features.h5\"\n",
    "}\n",
    "\n",
    "datatypes = [\"herwig\", \"pythiabg\", \"pythiasig\"]\n",
    "\n",
    "train_features = [\"ptj1\", \"etaj1\", \"mj1\", \"ptj2\", \"etaj2\", \"phij2\", \"mj2\", \"tau21j1\", \"tau21j2\"]\n",
    "condition_features = [\"mjj\"]\n",
    "\n",
    "features = train_features + condition_features\n",
    "GEN_DIM = NOISE_DIM + len(condition_features)\n",
    "DISC_DIM = len(features)"
   ]
  },
  {
   "cell_type": "code",
   "execution_count": 7,
   "metadata": {},
   "outputs": [
    {
     "output_type": "execute_result",
     "data": {
      "text/plain": [
       "31"
      ]
     },
     "metadata": {},
     "execution_count": 7
    }
   ],
   "source": [
    "def cut_data(uncut_data, pTmin = 1200, etamax = 2.5):\n",
    "    # Column 0: ptj1\n",
    "    # Column 1: etaj1\n",
    "    # Column 3: ptj2\n",
    "    # Column 4: etaj2\n",
    "    return uncut_data[((uncut_data[:,0] > pTmin) & (np.abs(uncut_data[:,1]) < etamax)) | ((uncut_data[:,3] > pTmin) & (np.abs(uncut_data[:,4]) < etamax))]\n",
    "\n",
    "np_bg_SB = np.load('..\\data\\processed\\\\np_bg_SB_2.npy')\n",
    "np_bg_SR = np.load('..\\data\\processed\\\\np_bg_SR_2.npy')\n",
    "np_sig_SR = np.load('..\\data\\processed\\\\np_sig_SR_2.npy')\n",
    "\n",
    "np_sig_SR_labeled = np.copy(np_sig_SR)\n",
    "np_bg_SR_labeled = np.copy(np_bg_SR)\n",
    "\n",
    "np_sig_SR_labeled = np.append(np_sig_SR_labeled,np.ones([len(np_sig_SR),1]),1)\n",
    "np_bg_SR_labeled = np.append(np_bg_SR_labeled,np.zeros([len(np_bg_SR),1]),1)\n",
    "np_combined_SR = np.concatenate((np_bg_SR, np_sig_SR), axis = 0)\n",
    "np_combined_SR_labeled = np.concatenate((np_sig_SR_labeled,np_bg_SR_labeled),axis=0)\n",
    "\n",
    "gc.collect()"
   ]
  },
  {
   "cell_type": "code",
   "execution_count": 8,
   "metadata": {},
   "outputs": [
    {
     "output_type": "execute_result",
     "data": {
      "text/plain": [
       "0.6205640442400567"
      ]
     },
     "metadata": {},
     "execution_count": 8
    }
   ],
   "source": [
    "np_sig_SR.shape[0]/np_bg_SR.shape[0]"
   ]
  },
  {
   "cell_type": "code",
   "execution_count": 9,
   "metadata": {},
   "outputs": [
    {
     "output_type": "stream",
     "name": "stdout",
     "text": [
      "WARNING:tensorflow:No training configuration found in the save file, so the model was *not* compiled. Compile it manually.\n"
     ]
    }
   ],
   "source": [
    "gen_model = tf.keras.models.load_model('..\\Results\\cdijetgan\\saverun4\\models\\epoch1000-generator.h5')"
   ]
  },
  {
   "cell_type": "code",
   "execution_count": 40,
   "metadata": {},
   "outputs": [],
   "source": [
    "def generate_gan(generator, realdata):\n",
    "\n",
    "\n",
    "    labels = sample_fake(refdata = realdata, size = SAMPLE_SIZE) # Sample mjj from the existing distribution of mjj for comparison\n",
    "    labels_scaled = scaler_mjj.transform(labels.reshape(-1,1))\n",
    "    \n",
    "    fakedata_uncut_unscaled = generator(tf.concat([tf.random.uniform((SAMPLE_SIZE, NOISE_DIM)), labels_scaled], 1), training=False)\n",
    "    fakedata_uncut = np.concatenate((scaler.inverse_transform(fakedata_uncut_unscaled), labels.reshape(-1,1)), axis = 1)\n",
    "   \n",
    "\n",
    "    # At least one jet has pT > 1200 and |eta| < 2.5\n",
    "    fakedata = cut_data(fakedata_uncut)\n",
    "\n",
    "    # mjj = sqrt(Ejj**2 - pxjj**2 - pyjj**2 - pzjj**2)\n",
    "    fakedata_mjj = mjj(fakedata)\n",
    "\n",
    "    return fakedata\n",
    "def mjj(output):\n",
    "    pt1 = output[:,0]\n",
    "    eta1 = output[:,1]\n",
    "    m1 = output[:,2]\n",
    "    pt2 = output[:,3]\n",
    "    eta2 = output[:,4]\n",
    "    phi2 = output[:,5]\n",
    "    m2 = output[:,6]\n",
    "    ejj = np.sqrt((pt1 * np.cosh(eta1))**2 + m1**2) + np.sqrt((pt2 * np.cosh(eta2))**2 + m2**2)\n",
    "    pxjj = pt1 + pt2 * np.cos(phi2)\n",
    "    pyjj = pt2 * np.sin(phi2)\n",
    "    pzjj = pt1 * np.sinh(eta1) + pt2 * np.sinh(eta2)\n",
    "    return np.sqrt(ejj**2 - pxjj**2 - pyjj**2 - pzjj**2)\n",
    "def sample_fake(refdata = np_bg_SR, size = BATCH_SIZE):\n",
    "    rand_idx = np.random.choice(refdata.shape[0], size = size)\n",
    "    return refdata[rand_idx, -1].reshape((-1,1))\n",
    "def sample_data(refdata = np_combined_SR_labeled,size= 10000):\n",
    "    rand_idx = np.random.choice(refdata.shape[0], size)\n",
    "    return refdata[rand_idx, :]\n"
   ]
  },
  {
   "cell_type": "code",
   "execution_count": 41,
   "metadata": {},
   "outputs": [],
   "source": [
    "real_data = sample_data(size=100000)"
   ]
  },
  {
   "cell_type": "code",
   "execution_count": 12,
   "metadata": {},
   "outputs": [],
   "source": [
    "np_bg_SB_trimmed = np.delete(np_bg_SB, [i for i in range(np_bg_SB.shape[0] % (BATCH_SIZE * 4))], axis = 0)\n",
    "\n",
    "# Normalize inputs between -1 and 1, mjj between 0 and 1\n",
    "scaler = MinMaxScaler((-1,1)).fit(np_bg_SB_trimmed[:,:-1])\n",
    "scaler_mjj = MinMaxScaler((0,1)).fit(np_bg_SB_trimmed[:,-1].reshape(-1,1))\n",
    "np_bg_SB_scaled = np.concatenate((scaler.transform(np_bg_SB_trimmed[:,:-1]), scaler_mjj.transform(np_bg_SB_trimmed[:,-1].reshape(-1,1))), axis = 1)"
   ]
  },
  {
   "cell_type": "code",
   "execution_count": 13,
   "metadata": {},
   "outputs": [],
   "source": [
    "generated_data = generate_gan(gen_model,np_combined_SR)\n",
    "generated_data2 = generate_gan(gen_model,np_combined_SR)\n",
    "generated_data = np.concatenate((generated_data,generated_data2), axis = 0)\n",
    "generated_data_labeled  = np.copy(generated_data)\n",
    "generated_data_labeled = np.append(generated_data_labeled,np.zeros([len(generated_data_labeled),1]),1)\n"
   ]
  },
  {
   "cell_type": "code",
   "execution_count": 42,
   "metadata": {},
   "outputs": [],
   "source": [
    "np_bg_SR_labeled  = np.copy(np_bg_SR)\n",
    "np_bg_SR_labeled  = np.append(np_bg_SR_labeled ,np.zeros([len(np_bg_SR_labeled) ,1]),1)\n",
    "np_sig_SR_labeled  = np.copy(np_sig_SR)\n",
    "np_sig_SR_labeled  = np.append(np_sig_SR_labeled ,np.ones([len(np_sig_SR_labeled) ,1]),1)"
   ]
  },
  {
   "cell_type": "code",
   "execution_count": 43,
   "metadata": {},
   "outputs": [],
   "source": [
    "gen_data_df = pd.DataFrame(generated_data_labeled, columns = ['pt1','eta1','m1','pt2','eta2','phi2','m2','tau21j1','tau21j2','mjj','sblabel'])\n",
    "np_sig_df = pd.DataFrame(np_sig_SR_labeled, columns = ['pt1','eta1','m1','pt2','eta2','phi2','m2','tau21j1','tau21j2','mjj','sblabel'])"
   ]
  },
  {
   "cell_type": "code",
   "execution_count": 44,
   "metadata": {},
   "outputs": [
    {
     "output_type": "execute_result",
     "data": {
      "text/plain": [
       "               pt1      eta1          m1          pt2      eta2      phi2  \\\n",
       "0      1642.760750 -1.025744  106.174972  1438.201699  0.031338  3.130930   \n",
       "1      1781.470024  0.376664   67.810966  1750.465074  0.329847  3.169115   \n",
       "2      1366.499094  0.570329  179.026325   442.670160 -2.228212  3.771356   \n",
       "3      1324.982278  0.415817  750.147466  1292.371942 -1.231357  3.107160   \n",
       "4      1919.748249 -0.180005  158.286049  1568.113896 -0.548647  3.353240   \n",
       "...            ...       ...         ...          ...       ...       ...   \n",
       "99995  1558.378601  0.368532  132.528368  1520.764497 -0.590046  3.159183   \n",
       "99996  1693.498343 -0.216648  208.085725  1713.780581 -0.862785  3.087981   \n",
       "99997  1770.393668 -0.238184  497.459941  1698.880692 -0.497467  3.158949   \n",
       "99998  1743.861253  0.351210  465.128546  1757.856130  0.229255  3.158819   \n",
       "99999  1388.818150  0.314537  550.241850  1394.950399 -1.143031  3.063241   \n",
       "\n",
       "               m2   tau21j1   tau21j2          mjj  sblabel  \n",
       "0      321.065707  0.388924  0.423540  3419.760010      0.0  \n",
       "1      299.945280  0.665493  0.575450  3396.933594      0.0  \n",
       "2       24.635818  0.482289  0.745350  3598.440918      0.0  \n",
       "3       51.926321  0.268194  0.681407  3657.390625      0.0  \n",
       "4      107.163969  0.646919  0.843282  3378.073730      0.0  \n",
       "...           ...       ...       ...          ...      ...  \n",
       "99995  569.003156  0.763448  0.517466  3402.349365      0.0  \n",
       "99996  163.642405  0.726286  0.288618  3456.394043      0.0  \n",
       "99997  155.995063  0.855192  0.827768  3420.027100      0.0  \n",
       "99998   49.746296  0.373978  0.647160  3436.368652      0.0  \n",
       "99999  233.356668  0.089671  0.532474  3537.739990      0.0  \n",
       "\n",
       "[100000 rows x 11 columns]"
      ],
      "text/html": "<div>\n<style scoped>\n    .dataframe tbody tr th:only-of-type {\n        vertical-align: middle;\n    }\n\n    .dataframe tbody tr th {\n        vertical-align: top;\n    }\n\n    .dataframe thead th {\n        text-align: right;\n    }\n</style>\n<table border=\"1\" class=\"dataframe\">\n  <thead>\n    <tr style=\"text-align: right;\">\n      <th></th>\n      <th>pt1</th>\n      <th>eta1</th>\n      <th>m1</th>\n      <th>pt2</th>\n      <th>eta2</th>\n      <th>phi2</th>\n      <th>m2</th>\n      <th>tau21j1</th>\n      <th>tau21j2</th>\n      <th>mjj</th>\n      <th>sblabel</th>\n    </tr>\n  </thead>\n  <tbody>\n    <tr>\n      <th>0</th>\n      <td>1642.760750</td>\n      <td>-1.025744</td>\n      <td>106.174972</td>\n      <td>1438.201699</td>\n      <td>0.031338</td>\n      <td>3.130930</td>\n      <td>321.065707</td>\n      <td>0.388924</td>\n      <td>0.423540</td>\n      <td>3419.760010</td>\n      <td>0.0</td>\n    </tr>\n    <tr>\n      <th>1</th>\n      <td>1781.470024</td>\n      <td>0.376664</td>\n      <td>67.810966</td>\n      <td>1750.465074</td>\n      <td>0.329847</td>\n      <td>3.169115</td>\n      <td>299.945280</td>\n      <td>0.665493</td>\n      <td>0.575450</td>\n      <td>3396.933594</td>\n      <td>0.0</td>\n    </tr>\n    <tr>\n      <th>2</th>\n      <td>1366.499094</td>\n      <td>0.570329</td>\n      <td>179.026325</td>\n      <td>442.670160</td>\n      <td>-2.228212</td>\n      <td>3.771356</td>\n      <td>24.635818</td>\n      <td>0.482289</td>\n      <td>0.745350</td>\n      <td>3598.440918</td>\n      <td>0.0</td>\n    </tr>\n    <tr>\n      <th>3</th>\n      <td>1324.982278</td>\n      <td>0.415817</td>\n      <td>750.147466</td>\n      <td>1292.371942</td>\n      <td>-1.231357</td>\n      <td>3.107160</td>\n      <td>51.926321</td>\n      <td>0.268194</td>\n      <td>0.681407</td>\n      <td>3657.390625</td>\n      <td>0.0</td>\n    </tr>\n    <tr>\n      <th>4</th>\n      <td>1919.748249</td>\n      <td>-0.180005</td>\n      <td>158.286049</td>\n      <td>1568.113896</td>\n      <td>-0.548647</td>\n      <td>3.353240</td>\n      <td>107.163969</td>\n      <td>0.646919</td>\n      <td>0.843282</td>\n      <td>3378.073730</td>\n      <td>0.0</td>\n    </tr>\n    <tr>\n      <th>...</th>\n      <td>...</td>\n      <td>...</td>\n      <td>...</td>\n      <td>...</td>\n      <td>...</td>\n      <td>...</td>\n      <td>...</td>\n      <td>...</td>\n      <td>...</td>\n      <td>...</td>\n      <td>...</td>\n    </tr>\n    <tr>\n      <th>99995</th>\n      <td>1558.378601</td>\n      <td>0.368532</td>\n      <td>132.528368</td>\n      <td>1520.764497</td>\n      <td>-0.590046</td>\n      <td>3.159183</td>\n      <td>569.003156</td>\n      <td>0.763448</td>\n      <td>0.517466</td>\n      <td>3402.349365</td>\n      <td>0.0</td>\n    </tr>\n    <tr>\n      <th>99996</th>\n      <td>1693.498343</td>\n      <td>-0.216648</td>\n      <td>208.085725</td>\n      <td>1713.780581</td>\n      <td>-0.862785</td>\n      <td>3.087981</td>\n      <td>163.642405</td>\n      <td>0.726286</td>\n      <td>0.288618</td>\n      <td>3456.394043</td>\n      <td>0.0</td>\n    </tr>\n    <tr>\n      <th>99997</th>\n      <td>1770.393668</td>\n      <td>-0.238184</td>\n      <td>497.459941</td>\n      <td>1698.880692</td>\n      <td>-0.497467</td>\n      <td>3.158949</td>\n      <td>155.995063</td>\n      <td>0.855192</td>\n      <td>0.827768</td>\n      <td>3420.027100</td>\n      <td>0.0</td>\n    </tr>\n    <tr>\n      <th>99998</th>\n      <td>1743.861253</td>\n      <td>0.351210</td>\n      <td>465.128546</td>\n      <td>1757.856130</td>\n      <td>0.229255</td>\n      <td>3.158819</td>\n      <td>49.746296</td>\n      <td>0.373978</td>\n      <td>0.647160</td>\n      <td>3436.368652</td>\n      <td>0.0</td>\n    </tr>\n    <tr>\n      <th>99999</th>\n      <td>1388.818150</td>\n      <td>0.314537</td>\n      <td>550.241850</td>\n      <td>1394.950399</td>\n      <td>-1.143031</td>\n      <td>3.063241</td>\n      <td>233.356668</td>\n      <td>0.089671</td>\n      <td>0.532474</td>\n      <td>3537.739990</td>\n      <td>0.0</td>\n    </tr>\n  </tbody>\n</table>\n<p>100000 rows × 11 columns</p>\n</div>"
     },
     "metadata": {},
     "execution_count": 44
    }
   ],
   "source": [
    "gen_data_df"
   ]
  },
  {
   "cell_type": "code",
   "execution_count": 45,
   "metadata": {},
   "outputs": [
    {
     "output_type": "execute_result",
     "data": {
      "text/plain": [
       "                pt1      eta1          m1          pt2      eta2      phi2  \\\n",
       "0       1914.942993  0.369530  105.035004  1583.804443 -0.185737  2.898982   \n",
       "1       1684.598755 -0.523116  159.865997  1647.186768  0.110357  3.141156   \n",
       "2       1789.997070  0.156652   93.665901  1569.509399  0.144243  3.235663   \n",
       "3       1672.631348 -1.015185  116.327003  1568.322998 -0.350886  3.165926   \n",
       "4       1431.694946 -0.700751  513.015991  1099.721313  0.945019  3.245961   \n",
       "...             ...       ...         ...          ...       ...       ...   \n",
       "150591  1678.012939  0.827268  473.352997  1653.355347  0.978250  3.045114   \n",
       "150592  1741.585083 -0.203934   96.165001  1728.791870  0.121508  3.133633   \n",
       "150593  1289.501831  0.922850  115.719002  1153.867065 -0.919407  3.193555   \n",
       "150594  1787.707764  0.032824  508.045013  1381.171143  0.933776  3.163839   \n",
       "150595  1745.240479  0.112269  114.938004  1705.561890 -0.288385  3.096745   \n",
       "\n",
       "                m2   tau21j1   tau21j2          mjj  sblabel  \n",
       "0       461.574005  0.552809  0.121353  3662.211182      1.0  \n",
       "1       514.883972  0.440781  0.299984  3586.710693      1.0  \n",
       "2       475.316986  0.136103  0.135523  3421.777344      1.0  \n",
       "3       561.236023  0.617014  0.294746  3536.982910      1.0  \n",
       "4       108.752998  0.183145  0.456454  3481.573486      1.0  \n",
       "...            ...       ...       ...          ...      ...  \n",
       "150591  111.844002  0.090573  0.308552  3409.779297      1.0  \n",
       "150592  472.475006  0.202213  0.157020  3581.979492      1.0  \n",
       "150593  489.053009  0.271544  0.203001  3622.836914      1.0  \n",
       "150594   91.104897  0.166132  0.588186  3546.809082      1.0  \n",
       "150595  553.737000  0.153972  0.524699  3607.571045      1.0  \n",
       "\n",
       "[150596 rows x 11 columns]"
      ],
      "text/html": "<div>\n<style scoped>\n    .dataframe tbody tr th:only-of-type {\n        vertical-align: middle;\n    }\n\n    .dataframe tbody tr th {\n        vertical-align: top;\n    }\n\n    .dataframe thead th {\n        text-align: right;\n    }\n</style>\n<table border=\"1\" class=\"dataframe\">\n  <thead>\n    <tr style=\"text-align: right;\">\n      <th></th>\n      <th>pt1</th>\n      <th>eta1</th>\n      <th>m1</th>\n      <th>pt2</th>\n      <th>eta2</th>\n      <th>phi2</th>\n      <th>m2</th>\n      <th>tau21j1</th>\n      <th>tau21j2</th>\n      <th>mjj</th>\n      <th>sblabel</th>\n    </tr>\n  </thead>\n  <tbody>\n    <tr>\n      <th>0</th>\n      <td>1914.942993</td>\n      <td>0.369530</td>\n      <td>105.035004</td>\n      <td>1583.804443</td>\n      <td>-0.185737</td>\n      <td>2.898982</td>\n      <td>461.574005</td>\n      <td>0.552809</td>\n      <td>0.121353</td>\n      <td>3662.211182</td>\n      <td>1.0</td>\n    </tr>\n    <tr>\n      <th>1</th>\n      <td>1684.598755</td>\n      <td>-0.523116</td>\n      <td>159.865997</td>\n      <td>1647.186768</td>\n      <td>0.110357</td>\n      <td>3.141156</td>\n      <td>514.883972</td>\n      <td>0.440781</td>\n      <td>0.299984</td>\n      <td>3586.710693</td>\n      <td>1.0</td>\n    </tr>\n    <tr>\n      <th>2</th>\n      <td>1789.997070</td>\n      <td>0.156652</td>\n      <td>93.665901</td>\n      <td>1569.509399</td>\n      <td>0.144243</td>\n      <td>3.235663</td>\n      <td>475.316986</td>\n      <td>0.136103</td>\n      <td>0.135523</td>\n      <td>3421.777344</td>\n      <td>1.0</td>\n    </tr>\n    <tr>\n      <th>3</th>\n      <td>1672.631348</td>\n      <td>-1.015185</td>\n      <td>116.327003</td>\n      <td>1568.322998</td>\n      <td>-0.350886</td>\n      <td>3.165926</td>\n      <td>561.236023</td>\n      <td>0.617014</td>\n      <td>0.294746</td>\n      <td>3536.982910</td>\n      <td>1.0</td>\n    </tr>\n    <tr>\n      <th>4</th>\n      <td>1431.694946</td>\n      <td>-0.700751</td>\n      <td>513.015991</td>\n      <td>1099.721313</td>\n      <td>0.945019</td>\n      <td>3.245961</td>\n      <td>108.752998</td>\n      <td>0.183145</td>\n      <td>0.456454</td>\n      <td>3481.573486</td>\n      <td>1.0</td>\n    </tr>\n    <tr>\n      <th>...</th>\n      <td>...</td>\n      <td>...</td>\n      <td>...</td>\n      <td>...</td>\n      <td>...</td>\n      <td>...</td>\n      <td>...</td>\n      <td>...</td>\n      <td>...</td>\n      <td>...</td>\n      <td>...</td>\n    </tr>\n    <tr>\n      <th>150591</th>\n      <td>1678.012939</td>\n      <td>0.827268</td>\n      <td>473.352997</td>\n      <td>1653.355347</td>\n      <td>0.978250</td>\n      <td>3.045114</td>\n      <td>111.844002</td>\n      <td>0.090573</td>\n      <td>0.308552</td>\n      <td>3409.779297</td>\n      <td>1.0</td>\n    </tr>\n    <tr>\n      <th>150592</th>\n      <td>1741.585083</td>\n      <td>-0.203934</td>\n      <td>96.165001</td>\n      <td>1728.791870</td>\n      <td>0.121508</td>\n      <td>3.133633</td>\n      <td>472.475006</td>\n      <td>0.202213</td>\n      <td>0.157020</td>\n      <td>3581.979492</td>\n      <td>1.0</td>\n    </tr>\n    <tr>\n      <th>150593</th>\n      <td>1289.501831</td>\n      <td>0.922850</td>\n      <td>115.719002</td>\n      <td>1153.867065</td>\n      <td>-0.919407</td>\n      <td>3.193555</td>\n      <td>489.053009</td>\n      <td>0.271544</td>\n      <td>0.203001</td>\n      <td>3622.836914</td>\n      <td>1.0</td>\n    </tr>\n    <tr>\n      <th>150594</th>\n      <td>1787.707764</td>\n      <td>0.032824</td>\n      <td>508.045013</td>\n      <td>1381.171143</td>\n      <td>0.933776</td>\n      <td>3.163839</td>\n      <td>91.104897</td>\n      <td>0.166132</td>\n      <td>0.588186</td>\n      <td>3546.809082</td>\n      <td>1.0</td>\n    </tr>\n    <tr>\n      <th>150595</th>\n      <td>1745.240479</td>\n      <td>0.112269</td>\n      <td>114.938004</td>\n      <td>1705.561890</td>\n      <td>-0.288385</td>\n      <td>3.096745</td>\n      <td>553.737000</td>\n      <td>0.153972</td>\n      <td>0.524699</td>\n      <td>3607.571045</td>\n      <td>1.0</td>\n    </tr>\n  </tbody>\n</table>\n<p>150596 rows × 11 columns</p>\n</div>"
     },
     "metadata": {},
     "execution_count": 45
    }
   ],
   "source": [
    "np_sig_df"
   ]
  },
  {
   "cell_type": "code",
   "execution_count": 21,
   "metadata": {},
   "outputs": [],
   "source": [
    "METRICS = [\n",
    "      keras.metrics.TruePositives(name='tp'),\n",
    "      keras.metrics.FalsePositives(name='fp'),\n",
    "      keras.metrics.TrueNegatives(name='tn'),\n",
    "      keras.metrics.FalseNegatives(name='fn'), \n",
    "      keras.metrics.BinaryAccuracy(name='accuracy'),\n",
    "      keras.metrics.Precision(name='precision'),\n",
    "      keras.metrics.Recall(name='recall'),\n",
    "      keras.metrics.AUC(name='auc'),\n",
    "      \n",
    "]\n",
    "def classifier_model():    \n",
    "    model = tf.keras.Sequential()\n",
    "    model.add(layers.Dense(64,input_dim = 4,activation ='relu'))\n",
    "    model.add(layers.Dropout(0.1))\n",
    "    model.add(layers.Dense(64,activation = 'relu'))\n",
    "    model.add(layers.Dropout(0.1))\n",
    "    model.add(layers.Dense(64,activation = 'relu'))\n",
    "    model.add(layers.Dropout(0.1))\n",
    "    model.add(layers.Dense(64,activation = 'relu'))\n",
    "    model.add(layers.Dropout(0.1))\n",
    "    model.add(layers.Dense(1, activation = 'sigmoid'))\n",
    "    model.compile(optimizer='adam',loss='binary_crossentropy',metrics=[METRICS])\n",
    "    return model\n"
   ]
  },
  {
   "cell_type": "code",
   "execution_count": 22,
   "metadata": {},
   "outputs": [
    {
     "output_type": "stream",
     "name": "stdout",
     "text": [
      "Model: \"sequential\"\n_________________________________________________________________\nLayer (type)                 Output Shape              Param #   \n=================================================================\ndense (Dense)                (None, 64)                320       \n_________________________________________________________________\ndropout (Dropout)            (None, 64)                0         \n_________________________________________________________________\ndense_1 (Dense)              (None, 64)                4160      \n_________________________________________________________________\ndropout_1 (Dropout)          (None, 64)                0         \n_________________________________________________________________\ndense_2 (Dense)              (None, 64)                4160      \n_________________________________________________________________\ndropout_2 (Dropout)          (None, 64)                0         \n_________________________________________________________________\ndense_3 (Dense)              (None, 64)                4160      \n_________________________________________________________________\ndropout_3 (Dropout)          (None, 64)                0         \n_________________________________________________________________\ndense_4 (Dense)              (None, 1)                 65        \n=================================================================\nTotal params: 12,865\nTrainable params: 12,865\nNon-trainable params: 0\n_________________________________________________________________\n"
     ]
    }
   ],
   "source": [
    "classifier = classifier_model()\n",
    "classifier.summary()"
   ]
  },
  {
   "cell_type": "code",
   "execution_count": 23,
   "metadata": {},
   "outputs": [],
   "source": [
    "\n",
    "def learningCurveLoss(history):\n",
    "    plt.figure(figsize=(10,8))\n",
    "    plt.plot(history.history['loss'], linewidth=1)\n",
    "    plt.plot(history.history['val_loss'], linewidth=1)\n",
    "    plt.title('Model Loss over Epochs')\n",
    "    plt.ylabel('Loss')\n",
    "    #plt.ylim(0,5)\n",
    "    plt.xlabel('Epoch')\n",
    "    plt.legend(['training sample loss','validation sample loss'])\n",
    "    plt.savefig('5_tag_learning_curve.png')\n",
    "    plt.show()\n",
    "    plt.close()\n",
    "    #plt.savefig(\"Learning_Curve\")\n",
    "def plot_roc_curve(y_test, y_test_score):\n",
    "\n",
    "    fpr, tpr, _ = roc_curve(y_test, y_test_score)\n",
    "    auc_value = auc(fpr, tpr)\n",
    "    plt.figure()\n",
    "    plt.plot(fpr, tpr,label=' AUC = %.1f%%'%(auc_value*100.))\n",
    "    plt.plot([0, 1], [0, 1], 'k-')\n",
    "\n",
    "    plt.xlabel('False Positive Rate')\n",
    "    plt.ylabel('True Positive Rate')\n",
    "    plt.title('ROC')\n",
    "    plt.legend(loc='lower right')\n",
    "    plt.show()"
   ]
  },
  {
   "cell_type": "code",
   "execution_count": 31,
   "metadata": {},
   "outputs": [],
   "source": [
    "# split background in SR into testing and training. Testing is to inject signals\n",
    "training_idx = np.random.randint(np_bg_SR_labeled.shape[0], size=(int)(np_bg_SR_labeled.shape[0]/2))\n",
    "test_idx = np.random.randint(np_bg_SR_labeled.shape[0], size=(int)(np_bg_SR_labeled.shape[0]/2))\n",
    "training, test = np_bg_SR_labeled[training_idx,:], np_bg_SR_labeled[test_idx,:]"
   ]
  },
  {
   "cell_type": "code",
   "execution_count": 46,
   "metadata": {},
   "outputs": [
    {
     "output_type": "execute_result",
     "data": {
      "text/plain": [
       "(121338, 11)"
      ]
     },
     "metadata": {},
     "execution_count": 46
    }
   ],
   "source": [
    "training.shape"
   ]
  },
  {
   "cell_type": "code",
   "execution_count": 35,
   "metadata": {},
   "outputs": [],
   "source": [
    "# other half of the bg combined with FULL signal\n",
    "testing_sample = np.concatenate((np_sig_SR_labeled,test),axis=0)"
   ]
  },
  {
   "cell_type": "code",
   "execution_count": 47,
   "metadata": {},
   "outputs": [
    {
     "output_type": "execute_result",
     "data": {
      "text/plain": [
       "(271934, 11)"
      ]
     },
     "metadata": {},
     "execution_count": 47
    }
   ],
   "source": [
    "testing_sample.shape"
   ]
  },
  {
   "cell_type": "code",
   "execution_count": 36,
   "metadata": {},
   "outputs": [],
   "source": [
    "ts_df = pd.DataFrame(testing_sample, columns = ['pt1','eta1','m1','pt2','eta2','phi2','m2','tau21j1','tau21j2','mjj','sblabel'])"
   ]
  },
  {
   "cell_type": "code",
   "execution_count": 37,
   "metadata": {},
   "outputs": [
    {
     "output_type": "execute_result",
     "data": {
      "text/plain": [
       "                pt1      eta1          m1          pt2      eta2      phi2  \\\n",
       "0       1914.942993  0.369530  105.035004  1583.804443 -0.185737  2.898982   \n",
       "1       1684.598755 -0.523116  159.865997  1647.186768  0.110357  3.141156   \n",
       "2       1789.997070  0.156652   93.665901  1569.509399  0.144243  3.235663   \n",
       "3       1672.631348 -1.015185  116.327003  1568.322998 -0.350886  3.165926   \n",
       "4       1431.694946 -0.700751  513.015991  1099.721313  0.945019  3.245961   \n",
       "...             ...       ...         ...          ...       ...       ...   \n",
       "271929  1359.633911  0.745962  200.356003  1108.893433 -0.877124  3.267900   \n",
       "271930  1381.264038  1.317877   47.827900  1333.037720 -0.325582  3.098527   \n",
       "271931  1655.104614 -0.269907  318.651001  1318.416382  1.028864  2.741848   \n",
       "271932  1302.850708 -0.669769  133.298996   773.597778  1.623327  3.462919   \n",
       "271933  1223.641235 -0.157817  122.642998  1191.954834  1.678535  3.117054   \n",
       "\n",
       "                m2   tau21j1   tau21j2          mjj  sblabel  \n",
       "0       461.574005  0.552809  0.121353  3662.211182      1.0  \n",
       "1       514.883972  0.440781  0.299984  3586.710693      1.0  \n",
       "2       475.316986  0.136103  0.135523  3421.777344      1.0  \n",
       "3       561.236023  0.617014  0.294746  3536.982910      1.0  \n",
       "4       108.752998  0.183145  0.456454  3481.573486      1.0  \n",
       "...            ...       ...       ...          ...      ...  \n",
       "271929  142.541000  0.356389  0.610910  3324.132080      0.0  \n",
       "271930   59.168598  0.706115  0.183702  3684.278320      0.0  \n",
       "271931  365.652008  0.532545  0.607478  3616.794189      0.0  \n",
       "271932  242.063995  0.673634  0.603720  3484.684570      0.0  \n",
       "271933   43.028702  0.405468  0.579213  3515.178711      0.0  \n",
       "\n",
       "[271934 rows x 11 columns]"
      ],
      "text/html": "<div>\n<style scoped>\n    .dataframe tbody tr th:only-of-type {\n        vertical-align: middle;\n    }\n\n    .dataframe tbody tr th {\n        vertical-align: top;\n    }\n\n    .dataframe thead th {\n        text-align: right;\n    }\n</style>\n<table border=\"1\" class=\"dataframe\">\n  <thead>\n    <tr style=\"text-align: right;\">\n      <th></th>\n      <th>pt1</th>\n      <th>eta1</th>\n      <th>m1</th>\n      <th>pt2</th>\n      <th>eta2</th>\n      <th>phi2</th>\n      <th>m2</th>\n      <th>tau21j1</th>\n      <th>tau21j2</th>\n      <th>mjj</th>\n      <th>sblabel</th>\n    </tr>\n  </thead>\n  <tbody>\n    <tr>\n      <th>0</th>\n      <td>1914.942993</td>\n      <td>0.369530</td>\n      <td>105.035004</td>\n      <td>1583.804443</td>\n      <td>-0.185737</td>\n      <td>2.898982</td>\n      <td>461.574005</td>\n      <td>0.552809</td>\n      <td>0.121353</td>\n      <td>3662.211182</td>\n      <td>1.0</td>\n    </tr>\n    <tr>\n      <th>1</th>\n      <td>1684.598755</td>\n      <td>-0.523116</td>\n      <td>159.865997</td>\n      <td>1647.186768</td>\n      <td>0.110357</td>\n      <td>3.141156</td>\n      <td>514.883972</td>\n      <td>0.440781</td>\n      <td>0.299984</td>\n      <td>3586.710693</td>\n      <td>1.0</td>\n    </tr>\n    <tr>\n      <th>2</th>\n      <td>1789.997070</td>\n      <td>0.156652</td>\n      <td>93.665901</td>\n      <td>1569.509399</td>\n      <td>0.144243</td>\n      <td>3.235663</td>\n      <td>475.316986</td>\n      <td>0.136103</td>\n      <td>0.135523</td>\n      <td>3421.777344</td>\n      <td>1.0</td>\n    </tr>\n    <tr>\n      <th>3</th>\n      <td>1672.631348</td>\n      <td>-1.015185</td>\n      <td>116.327003</td>\n      <td>1568.322998</td>\n      <td>-0.350886</td>\n      <td>3.165926</td>\n      <td>561.236023</td>\n      <td>0.617014</td>\n      <td>0.294746</td>\n      <td>3536.982910</td>\n      <td>1.0</td>\n    </tr>\n    <tr>\n      <th>4</th>\n      <td>1431.694946</td>\n      <td>-0.700751</td>\n      <td>513.015991</td>\n      <td>1099.721313</td>\n      <td>0.945019</td>\n      <td>3.245961</td>\n      <td>108.752998</td>\n      <td>0.183145</td>\n      <td>0.456454</td>\n      <td>3481.573486</td>\n      <td>1.0</td>\n    </tr>\n    <tr>\n      <th>...</th>\n      <td>...</td>\n      <td>...</td>\n      <td>...</td>\n      <td>...</td>\n      <td>...</td>\n      <td>...</td>\n      <td>...</td>\n      <td>...</td>\n      <td>...</td>\n      <td>...</td>\n      <td>...</td>\n    </tr>\n    <tr>\n      <th>271929</th>\n      <td>1359.633911</td>\n      <td>0.745962</td>\n      <td>200.356003</td>\n      <td>1108.893433</td>\n      <td>-0.877124</td>\n      <td>3.267900</td>\n      <td>142.541000</td>\n      <td>0.356389</td>\n      <td>0.610910</td>\n      <td>3324.132080</td>\n      <td>0.0</td>\n    </tr>\n    <tr>\n      <th>271930</th>\n      <td>1381.264038</td>\n      <td>1.317877</td>\n      <td>47.827900</td>\n      <td>1333.037720</td>\n      <td>-0.325582</td>\n      <td>3.098527</td>\n      <td>59.168598</td>\n      <td>0.706115</td>\n      <td>0.183702</td>\n      <td>3684.278320</td>\n      <td>0.0</td>\n    </tr>\n    <tr>\n      <th>271931</th>\n      <td>1655.104614</td>\n      <td>-0.269907</td>\n      <td>318.651001</td>\n      <td>1318.416382</td>\n      <td>1.028864</td>\n      <td>2.741848</td>\n      <td>365.652008</td>\n      <td>0.532545</td>\n      <td>0.607478</td>\n      <td>3616.794189</td>\n      <td>0.0</td>\n    </tr>\n    <tr>\n      <th>271932</th>\n      <td>1302.850708</td>\n      <td>-0.669769</td>\n      <td>133.298996</td>\n      <td>773.597778</td>\n      <td>1.623327</td>\n      <td>3.462919</td>\n      <td>242.063995</td>\n      <td>0.673634</td>\n      <td>0.603720</td>\n      <td>3484.684570</td>\n      <td>0.0</td>\n    </tr>\n    <tr>\n      <th>271933</th>\n      <td>1223.641235</td>\n      <td>-0.157817</td>\n      <td>122.642998</td>\n      <td>1191.954834</td>\n      <td>1.678535</td>\n      <td>3.117054</td>\n      <td>43.028702</td>\n      <td>0.405468</td>\n      <td>0.579213</td>\n      <td>3515.178711</td>\n      <td>0.0</td>\n    </tr>\n  </tbody>\n</table>\n<p>271934 rows × 11 columns</p>\n</div>"
     },
     "metadata": {},
     "execution_count": 37
    }
   ],
   "source": [
    "ts_df"
   ]
  },
  {
   "cell_type": "code",
   "execution_count": 39,
   "metadata": {},
   "outputs": [
    {
     "output_type": "execute_result",
     "data": {
      "text/plain": [
       "{0.0: 121338, 1.0: 150596}"
      ]
     },
     "metadata": {},
     "execution_count": 39
    }
   ],
   "source": [
    "testing_sample[:,10]\n",
    "unique, counts = np.unique(testing_sample[:,10], return_counts=True)\n",
    "dict(zip(unique, counts))"
   ]
  },
  {
   "cell_type": "code",
   "execution_count": 49,
   "metadata": {},
   "outputs": [],
   "source": [
    "sb_ratio = np.logspace(-3,-0.205,5)\n",
    "#sb_ratio = np.linspace(0,0.62,10)\n",
    "mixedsb = []\n",
    "generated_data = []\n",
    "for i in sb_ratio:\n",
    "    sampled_signal = np.random.choice(np_sig_SR.shape[0], (int)(i * training.shape[0]))\n",
    "    combined = np.concatenate((np_sig_SR_labeled[sampled_signal,:],training), axis =0)\n",
    "    gen = generate_gan(gen_model,combined)\n",
    "    gen2 = generate_gan(gen_model,combined)\n",
    "    gen_data = np.concatenate((gen,gen2),axis=0)\n",
    "    generated_data_labeled  = np.copy(gen_data)\n",
    "    generated_data_labeled = np.append(generated_data_labeled,np.zeros([len(generated_data_labeled),1]),1)\n",
    "    mixedsb.append(sample_data(combined,100000))\n",
    "    generated_data.append(generated_data_labeled)"
   ]
  },
  {
   "cell_type": "code",
   "execution_count": 50,
   "metadata": {},
   "outputs": [],
   "source": [
    "dataset_label_df = pd.DataFrame(mixedsb[4], columns = ['pt1','eta1','m1','pt2','eta2','phi2','m2','tau21j1','tau21j2','mjj','sblabel'])\n"
   ]
  },
  {
   "cell_type": "code",
   "execution_count": 51,
   "metadata": {},
   "outputs": [
    {
     "output_type": "execute_result",
     "data": {
      "text/plain": [
       "               pt1      eta1          m1          pt2      eta2      phi2  \\\n",
       "0      1540.473389  0.223300  103.888000  1491.122803  1.292159  3.136605   \n",
       "1      1440.791992 -0.528059  284.596008  1422.056396  0.765371  3.124997   \n",
       "2      1298.666016 -0.987181  437.763000  1142.459106  0.660296  3.133340   \n",
       "3      1208.166504 -1.298273   60.212898  1172.483887  0.589808  3.139624   \n",
       "4      1679.516602  0.333428   96.210403  1600.089722 -0.291809  3.105348   \n",
       "...            ...       ...         ...          ...       ...       ...   \n",
       "99995  2026.749268 -0.511651  236.503998  1019.270691 -1.821643  3.544259   \n",
       "99996  1778.166504  0.485632  523.215027  1652.175171  0.783328  3.183554   \n",
       "99997  1728.041626  0.538613  136.613007  1676.928589 -0.003937  3.138898   \n",
       "99998  1732.292236  0.170773  133.610992  1573.427490  0.763055  3.056173   \n",
       "99999  1762.066528 -0.106647  520.033997  1502.006958  0.156168  3.177633   \n",
       "\n",
       "               m2   tau21j1   tau21j2          mjj  sblabel  \n",
       "0      512.163025  0.320008  0.099555  3536.390869      1.0  \n",
       "1      467.510010  0.481643  0.499015  3565.357910      0.0  \n",
       "2       42.643600  0.466969  0.728824  3359.856934      0.0  \n",
       "3       93.815804  0.617938  0.910200  3526.458008      0.0  \n",
       "4      128.330002  0.049997  0.580430  3447.192139      1.0  \n",
       "...           ...       ...       ...          ...      ...  \n",
       "99995   35.225899  0.384620  0.741260  3485.869385      0.0  \n",
       "99996  108.714996  0.401237  0.527075  3549.722656      1.0  \n",
       "99997  540.773010  0.243464  0.169897  3623.607666      1.0  \n",
       "99998  531.919983  0.490440  0.164551  3525.276123      1.0  \n",
       "99999  115.093002  0.242292  0.106118  3360.646729      1.0  \n",
       "\n",
       "[100000 rows x 11 columns]"
      ],
      "text/html": "<div>\n<style scoped>\n    .dataframe tbody tr th:only-of-type {\n        vertical-align: middle;\n    }\n\n    .dataframe tbody tr th {\n        vertical-align: top;\n    }\n\n    .dataframe thead th {\n        text-align: right;\n    }\n</style>\n<table border=\"1\" class=\"dataframe\">\n  <thead>\n    <tr style=\"text-align: right;\">\n      <th></th>\n      <th>pt1</th>\n      <th>eta1</th>\n      <th>m1</th>\n      <th>pt2</th>\n      <th>eta2</th>\n      <th>phi2</th>\n      <th>m2</th>\n      <th>tau21j1</th>\n      <th>tau21j2</th>\n      <th>mjj</th>\n      <th>sblabel</th>\n    </tr>\n  </thead>\n  <tbody>\n    <tr>\n      <th>0</th>\n      <td>1540.473389</td>\n      <td>0.223300</td>\n      <td>103.888000</td>\n      <td>1491.122803</td>\n      <td>1.292159</td>\n      <td>3.136605</td>\n      <td>512.163025</td>\n      <td>0.320008</td>\n      <td>0.099555</td>\n      <td>3536.390869</td>\n      <td>1.0</td>\n    </tr>\n    <tr>\n      <th>1</th>\n      <td>1440.791992</td>\n      <td>-0.528059</td>\n      <td>284.596008</td>\n      <td>1422.056396</td>\n      <td>0.765371</td>\n      <td>3.124997</td>\n      <td>467.510010</td>\n      <td>0.481643</td>\n      <td>0.499015</td>\n      <td>3565.357910</td>\n      <td>0.0</td>\n    </tr>\n    <tr>\n      <th>2</th>\n      <td>1298.666016</td>\n      <td>-0.987181</td>\n      <td>437.763000</td>\n      <td>1142.459106</td>\n      <td>0.660296</td>\n      <td>3.133340</td>\n      <td>42.643600</td>\n      <td>0.466969</td>\n      <td>0.728824</td>\n      <td>3359.856934</td>\n      <td>0.0</td>\n    </tr>\n    <tr>\n      <th>3</th>\n      <td>1208.166504</td>\n      <td>-1.298273</td>\n      <td>60.212898</td>\n      <td>1172.483887</td>\n      <td>0.589808</td>\n      <td>3.139624</td>\n      <td>93.815804</td>\n      <td>0.617938</td>\n      <td>0.910200</td>\n      <td>3526.458008</td>\n      <td>0.0</td>\n    </tr>\n    <tr>\n      <th>4</th>\n      <td>1679.516602</td>\n      <td>0.333428</td>\n      <td>96.210403</td>\n      <td>1600.089722</td>\n      <td>-0.291809</td>\n      <td>3.105348</td>\n      <td>128.330002</td>\n      <td>0.049997</td>\n      <td>0.580430</td>\n      <td>3447.192139</td>\n      <td>1.0</td>\n    </tr>\n    <tr>\n      <th>...</th>\n      <td>...</td>\n      <td>...</td>\n      <td>...</td>\n      <td>...</td>\n      <td>...</td>\n      <td>...</td>\n      <td>...</td>\n      <td>...</td>\n      <td>...</td>\n      <td>...</td>\n      <td>...</td>\n    </tr>\n    <tr>\n      <th>99995</th>\n      <td>2026.749268</td>\n      <td>-0.511651</td>\n      <td>236.503998</td>\n      <td>1019.270691</td>\n      <td>-1.821643</td>\n      <td>3.544259</td>\n      <td>35.225899</td>\n      <td>0.384620</td>\n      <td>0.741260</td>\n      <td>3485.869385</td>\n      <td>0.0</td>\n    </tr>\n    <tr>\n      <th>99996</th>\n      <td>1778.166504</td>\n      <td>0.485632</td>\n      <td>523.215027</td>\n      <td>1652.175171</td>\n      <td>0.783328</td>\n      <td>3.183554</td>\n      <td>108.714996</td>\n      <td>0.401237</td>\n      <td>0.527075</td>\n      <td>3549.722656</td>\n      <td>1.0</td>\n    </tr>\n    <tr>\n      <th>99997</th>\n      <td>1728.041626</td>\n      <td>0.538613</td>\n      <td>136.613007</td>\n      <td>1676.928589</td>\n      <td>-0.003937</td>\n      <td>3.138898</td>\n      <td>540.773010</td>\n      <td>0.243464</td>\n      <td>0.169897</td>\n      <td>3623.607666</td>\n      <td>1.0</td>\n    </tr>\n    <tr>\n      <th>99998</th>\n      <td>1732.292236</td>\n      <td>0.170773</td>\n      <td>133.610992</td>\n      <td>1573.427490</td>\n      <td>0.763055</td>\n      <td>3.056173</td>\n      <td>531.919983</td>\n      <td>0.490440</td>\n      <td>0.164551</td>\n      <td>3525.276123</td>\n      <td>1.0</td>\n    </tr>\n    <tr>\n      <th>99999</th>\n      <td>1762.066528</td>\n      <td>-0.106647</td>\n      <td>520.033997</td>\n      <td>1502.006958</td>\n      <td>0.156168</td>\n      <td>3.177633</td>\n      <td>115.093002</td>\n      <td>0.242292</td>\n      <td>0.106118</td>\n      <td>3360.646729</td>\n      <td>1.0</td>\n    </tr>\n  </tbody>\n</table>\n<p>100000 rows × 11 columns</p>\n</div>"
     },
     "metadata": {},
     "execution_count": 51
    }
   ],
   "source": [
    "dataset_label_df"
   ]
  },
  {
   "cell_type": "code",
   "execution_count": 47,
   "metadata": {},
   "outputs": [
    {
     "output_type": "error",
     "ename": "NameError",
     "evalue": "name 'mixedsb_labeled' is not defined",
     "traceback": [
      "\u001b[1;31m---------------------------------------------------------------------------\u001b[0m",
      "\u001b[1;31mNameError\u001b[0m                                 Traceback (most recent call last)",
      "\u001b[1;32m<ipython-input-47-bae7992bca32>\u001b[0m in \u001b[0;36m<module>\u001b[1;34m\u001b[0m\n\u001b[0;32m      3\u001b[0m     \u001b[0mclassifier_real\u001b[0m \u001b[1;33m=\u001b[0m \u001b[0mmixedsb\u001b[0m\u001b[1;33m[\u001b[0m\u001b[0mi\u001b[0m\u001b[1;33m]\u001b[0m\u001b[1;33m[\u001b[0m\u001b[1;33m:\u001b[0m\u001b[1;33m,\u001b[0m\u001b[1;33m[\u001b[0m\u001b[1;36m2\u001b[0m\u001b[1;33m,\u001b[0m\u001b[1;36m6\u001b[0m\u001b[1;33m,\u001b[0m\u001b[1;36m7\u001b[0m\u001b[1;33m,\u001b[0m\u001b[1;36m8\u001b[0m\u001b[1;33m]\u001b[0m\u001b[1;33m]\u001b[0m\u001b[1;33m\u001b[0m\u001b[1;33m\u001b[0m\u001b[0m\n\u001b[0;32m      4\u001b[0m     \u001b[0mclassifier_fake\u001b[0m \u001b[1;33m=\u001b[0m \u001b[0mgenerated_data\u001b[0m\u001b[1;33m[\u001b[0m\u001b[0mi\u001b[0m\u001b[1;33m]\u001b[0m\u001b[1;33m[\u001b[0m\u001b[1;33m:\u001b[0m\u001b[1;33m,\u001b[0m\u001b[1;33m[\u001b[0m\u001b[1;36m2\u001b[0m\u001b[1;33m,\u001b[0m\u001b[1;36m6\u001b[0m\u001b[1;33m,\u001b[0m\u001b[1;36m7\u001b[0m\u001b[1;33m,\u001b[0m\u001b[1;36m8\u001b[0m\u001b[1;33m]\u001b[0m\u001b[1;33m]\u001b[0m\u001b[1;33m\u001b[0m\u001b[1;33m\u001b[0m\u001b[0m\n\u001b[1;32m----> 5\u001b[1;33m     \u001b[0msblabel_real\u001b[0m \u001b[1;33m=\u001b[0m \u001b[0mmixedsb_labeled\u001b[0m\u001b[1;33m[\u001b[0m\u001b[0mi\u001b[0m\u001b[1;33m]\u001b[0m\u001b[1;33m[\u001b[0m\u001b[1;33m:\u001b[0m\u001b[1;33m,\u001b[0m\u001b[1;36m10\u001b[0m\u001b[1;33m]\u001b[0m\u001b[1;33m\u001b[0m\u001b[1;33m\u001b[0m\u001b[0m\n\u001b[0m\u001b[0;32m      6\u001b[0m     \u001b[0msblabel_fake\u001b[0m \u001b[1;33m=\u001b[0m \u001b[0mgenerateddata_labeled\u001b[0m\u001b[1;33m[\u001b[0m\u001b[0mi\u001b[0m\u001b[1;33m]\u001b[0m\u001b[1;33m[\u001b[0m\u001b[1;33m:\u001b[0m\u001b[1;33m,\u001b[0m\u001b[1;36m10\u001b[0m\u001b[1;33m]\u001b[0m\u001b[1;33m\u001b[0m\u001b[1;33m\u001b[0m\u001b[0m\n\u001b[0;32m      7\u001b[0m     \u001b[0munscaled_data\u001b[0m \u001b[1;33m=\u001b[0m \u001b[0mnp\u001b[0m\u001b[1;33m.\u001b[0m\u001b[0mconcatenate\u001b[0m\u001b[1;33m(\u001b[0m\u001b[1;33m(\u001b[0m\u001b[0mclassifier_real\u001b[0m\u001b[1;33m,\u001b[0m\u001b[0mclassifier_fake\u001b[0m\u001b[1;33m)\u001b[0m\u001b[1;33m,\u001b[0m\u001b[0maxis\u001b[0m\u001b[1;33m=\u001b[0m\u001b[1;36m0\u001b[0m\u001b[1;33m)\u001b[0m\u001b[1;33m\u001b[0m\u001b[1;33m\u001b[0m\u001b[0m\n",
      "\u001b[1;31mNameError\u001b[0m: name 'mixedsb_labeled' is not defined"
     ]
    }
   ],
   "source": [
    "scaled_dataset = []\n",
    "for i in range(len(mixedsb)):\n",
    "    classifier_real = mixedsb[i][:,[2,6,7,8]]\n",
    "    classifier_fake = generated_data[i][:,[2,6,7,8]]\n",
    "    sblabel_real = mixedsb_labeled[i][:,10]\n",
    "    sblabel_fake = generateddata_labeled[i][:,10]\n",
    "    unscaled_data = np.concatenate((classifier_real,classifier_fake),axis=0)\n",
    "    sblabel = np.concatenate((sblabel_real,sblabel_fake),axis = 0)\n",
    "    scaler = StandardScaler().fit(unscaled_data)\n",
    "    scaled_data = scaler.transform(unscaled_data)\n",
    "    labels = np.concatenate((np.ones([len(classifier_real),1]),np.zeros([len(classifier_fake),1])),axis=0)\n",
    "    scaled_dataset.append(np.concatenate((scaled_data,labels),axis=1))"
   ]
  },
  {
   "cell_type": "code",
   "execution_count": null,
   "metadata": {},
   "outputs": [],
   "source": [
    "print(generated_data[0].shape)\n",
    "print(mixedsb[0].shape)\n",
    "print(scaled_dataset[i].shape)\n",
    "print(len(scaled_dataset))"
   ]
  },
  {
   "cell_type": "code",
   "execution_count": null,
   "metadata": {},
   "outputs": [],
   "source": [
    "ypred4c = []\n",
    "fp_4c, tp_4c,th_4c= [],[],[]\n",
    "auc_list_4c = []\n",
    "for i in range(len(mixedsb)): \n",
    "    classifier_real = mixedsb[i][:,[2,6,7,8]]\n",
    "    classifier_fake = generated_data[i][:,[2,6,7,8]]\n",
    "    \n",
    "    real = np.append(classifier_real,np.ones([len(classifier_real),1]),1)\n",
    "    fake = np.append(classifier_fake,np.zeros([len(classifier_fake),1]),1)\n",
    "    dataset = np.concatenate((real,fake),axis=0)\n",
    "    x_train,x_test,y_train,y_test = train_test_split(dataset[:,0:4],dataset[:,-1], test_size = 0.2, random_state=42)\n",
    "    x_train,x_val,y_train,y_val= train_test_split(dataset[:,0:4],dataset[:,-1], test_size = 0.2, random_state=42)\n",
    "    classifier = classifier_model_4features()\n",
    "    history = classifier.fit(x_train, y_train, epochs=20, batch_size=128,validation_data=(x_val,y_val))\n",
    "    learningCurveLoss(history)\n",
    "    y_pred = classifier.predict(x_test)\n",
    "    ypred4c.append(y_pred)\n",
    "    fpr, tpr, thresholds = roc_curve(y_test, y_pred)\n",
    "    auc_value = auc(fpr,tpr)\n",
    "    auc_list_4c.append(auc_value)\n",
    "    fp_4c.append(fpr)\n",
    "    tp_4c.append(tpr)\n",
    "    th_4c.append(thresholds)\n",
    "    "
   ]
  }
 ]
}