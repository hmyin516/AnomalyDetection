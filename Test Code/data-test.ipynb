{
 "metadata": {
  "language_info": {
   "codemirror_mode": {
    "name": "ipython",
    "version": 3
   },
   "file_extension": ".py",
   "mimetype": "text/x-python",
   "name": "python",
   "nbconvert_exporter": "python",
   "pygments_lexer": "ipython3",
   "version": "3.7.9-final"
  },
  "orig_nbformat": 2,
  "kernelspec": {
   "name": "python3",
   "display_name": "Python 3.7.9 64-bit ('torch': conda)",
   "metadata": {
    "interpreter": {
     "hash": "6fa0fcce7c0af6d081e0134c6b8f3a1d1e72d7bc9cda2dd8ba9c91f093f4ca6c"
    }
   }
  }
 },
 "nbformat": 4,
 "nbformat_minor": 2,
 "cells": [
  {
   "cell_type": "code",
   "execution_count": 22,
   "metadata": {},
   "outputs": [],
   "source": [
    "import torch\n",
    "import numpy as np\n",
    "import torch.nn as nn\n",
    "import torch.optim as optim\n",
    "from mmd import mix_rbf_mmd2\n",
    "from torch import Tensor\n",
    "import torch.nn.functional as F\n",
    "import matplotlib.pyplot as plt\n",
    "import pandas as pd\n",
    "import gc"
   ]
  },
  {
   "cell_type": "code",
   "execution_count": 23,
   "metadata": {},
   "outputs": [],
   "source": [
    "filenames = {\n",
    "\"herwig\" : \"../data/events_anomalydetection_DelphesHerwig_qcd_features.h5\",\n",
    "\"pythiabg\" : \"../data/events_anomalydetection_DelphesPythia8_v2_qcd_features.h5\",\n",
    "\"pythiasig\" : \"../data/events_anomalydetection_DelphesPythia8_v2_Wprime_features.h5\"}\n",
    "\n",
    "datatypes = [\"herwig\", \"pythiabg\", \"pythiasig\"]"
   ]
  },
  {
   "cell_type": "code",
   "execution_count": 24,
   "metadata": {},
   "outputs": [],
   "source": [
    "datatypes = [\"herwig\", \"pythiabg\", \"pythiasig\"]\n",
    "\n",
    "train_features = [\"ptj1\", \"etaj1\", \"mj1\", \"ptj2\", \"etaj2\", \"phij2\", \"mj2\"]\n",
    "# condition_features = [\"mjj\"]\n",
    "\n",
    "def load_data(datatype, stop = None, rotate = True, flip_eta = True):\n",
    "    input_frame = pd.read_hdf(filenames[datatype], stop = stop)\n",
    "    output_frame = pd.DataFrame(dtype = \"float32\")\n",
    "\n",
    "    for jet in [\"j1\", \"j2\"]:\n",
    "        output_frame[\"pt\" + jet] = np.sqrt(input_frame[\"px\" + jet]**2 + input_frame[\"py\" + jet]**2)\n",
    "        output_frame[\"eta\" + jet] = np.arcsinh(input_frame[\"pz\" + jet] / output_frame[\"pt\" + jet])\n",
    "        output_frame[\"phi\" + jet] = np.arctan2(input_frame[\"py\" + jet], input_frame[\"px\" + jet])\n",
    "        output_frame[\"m\" + jet] = input_frame[\"m\" + jet]\n",
    "        output_frame[\"p\" + jet] = np.sqrt(input_frame[\"pz\" + jet]**2 + output_frame[\"pt\" + jet]**2)\n",
    "        output_frame[\"e\" + jet] = np.sqrt(output_frame[\"m\" + jet]**2 + output_frame[\"p\" + jet]**2)\n",
    "        output_frame[\"tau21\" + jet] = input_frame[\"tau2\" + jet] / input_frame[\"tau1\" + jet]\n",
    "        output_frame[\"tau32\" + jet] = input_frame[\"tau3\" + jet] / input_frame[\"tau2\" + jet]\n",
    "    \n",
    "    del input_frame\n",
    "    gc.collect()\n",
    "\n",
    "    # Not exact rotation, since negative angles for phi2 are flipped across the x-axis. Should be OK due to symmetry.\n",
    "    if rotate:\n",
    "        output_frame[\"phij2\"] = np.abs(output_frame[\"phij2\"] - output_frame[\"phij1\"])\n",
    "        output_frame[\"phij1\"] = 0\n",
    "    \n",
    "    if flip_eta:\n",
    "        flipped_frame = output_frame.copy()\n",
    "        flipped_frame[\"etaj1\"] *= -1\n",
    "        flipped_frame[\"etaj2\"] *= -1\n",
    "        output_frame = output_frame.append(flipped_frame)\n",
    "        del flipped_frame\n",
    "        gc.collect()\n",
    "    \n",
    "    for jet in [\"j1\", \"j2\"]:\n",
    "        output_frame[\"px\" + jet] = output_frame[\"pt\" + jet] * np.cos(output_frame[\"phi\" + jet])\n",
    "        output_frame[\"py\" + jet] = output_frame[\"pt\" + jet] * np.sin(output_frame[\"phi\" + jet])\n",
    "        output_frame[\"pz\" + jet] = output_frame[\"pt\" + jet] * np.sinh(output_frame[\"eta\" + jet])\n",
    "    \n",
    "    # Dijet properties\n",
    "    output_frame[\"pxjj\"] = output_frame[\"pxj1\"] + output_frame[\"pxj2\"]\n",
    "    output_frame[\"pyjj\"] = output_frame[\"pyj1\"] + output_frame[\"pyj2\"]\n",
    "    output_frame[\"pzjj\"] = output_frame[\"pzj1\"] + output_frame[\"pzj2\"]\n",
    "    output_frame[\"ejj\"] = output_frame[\"ej1\"] + output_frame[\"ej2\"]\n",
    "    output_frame[\"pjj\"] = np.sqrt(output_frame[\"pxjj\"]**2 + output_frame[\"pyjj\"]**2 + output_frame[\"pzjj\"]**2)\n",
    "    output_frame[\"mjj\"] = np.sqrt(output_frame[\"ejj\"]**2 - output_frame[\"pjj\"]**2)\n",
    "\n",
    "    # NaNs may arise from overly sparse jets with tau1 = 0, tau2 = 0, etc.\n",
    "    output_frame.dropna(inplace = True)\n",
    "    output_frame.reset_index(drop = True, inplace = True)\n",
    "    \n",
    "    return output_frame.astype('float32')\n",
    "\n"
   ]
  },
  {
   "cell_type": "code",
   "execution_count": 26,
   "metadata": {},
   "outputs": [],
   "source": [
    "d = load_data(\"herwig\")"
   ]
  },
  {
   "cell_type": "code",
   "execution_count": 36,
   "metadata": {},
   "outputs": [
    {
     "output_type": "execute_result",
     "data": {
      "text/plain": [
       "Empty DataFrame\n",
       "Columns: [ptj1, etaj1, phij1, mj1, pj1, ej1, tau21j1, tau32j1, ptj2, etaj2, phij2, mj2, pj2, ej2, tau21j2, tau32j2, pxj1, pyj1, pzj1, pxj2, pyj2, pzj2, pxjj, pyjj, pzjj, ejj, pjj, mjj]\n",
       "Index: []\n",
       "\n",
       "[0 rows x 28 columns]"
      ],
      "text/html": "<div>\n<style scoped>\n    .dataframe tbody tr th:only-of-type {\n        vertical-align: middle;\n    }\n\n    .dataframe tbody tr th {\n        vertical-align: top;\n    }\n\n    .dataframe thead th {\n        text-align: right;\n    }\n</style>\n<table border=\"1\" class=\"dataframe\">\n  <thead>\n    <tr style=\"text-align: right;\">\n      <th></th>\n      <th>ptj1</th>\n      <th>etaj1</th>\n      <th>phij1</th>\n      <th>mj1</th>\n      <th>pj1</th>\n      <th>ej1</th>\n      <th>tau21j1</th>\n      <th>tau32j1</th>\n      <th>ptj2</th>\n      <th>etaj2</th>\n      <th>...</th>\n      <th>pzj1</th>\n      <th>pxj2</th>\n      <th>pyj2</th>\n      <th>pzj2</th>\n      <th>pxjj</th>\n      <th>pyjj</th>\n      <th>pzjj</th>\n      <th>ejj</th>\n      <th>pjj</th>\n      <th>mjj</th>\n    </tr>\n  </thead>\n  <tbody>\n  </tbody>\n</table>\n<p>0 rows × 28 columns</p>\n</div>"
     },
     "metadata": {},
     "execution_count": 36
    }
   ],
   "source": [
    "d[np.abs(d.etaj1)>2.5]"
   ]
  },
  {
   "cell_type": "code",
   "execution_count": 30,
   "metadata": {},
   "outputs": [
    {
     "output_type": "execute_result",
     "data": {
      "text/plain": [
       "                ptj1     etaj1  phij1         mj1          pj1          ej1  \\\n",
       "0        1234.686035  0.000947    0.0  223.070007  1234.686523  1254.675781   \n",
       "1        1249.513794 -0.646499    0.0  242.136002  1519.860840  1539.027832   \n",
       "2        1892.548584 -0.168968    0.0   95.748199  1919.629150  1922.015503   \n",
       "3        1217.459106  1.295385    0.0  440.657013  2389.990967  2430.274658   \n",
       "4        1332.903809 -0.044832    0.0   51.966702  1334.243530  1335.255127   \n",
       "...              ...       ...    ...         ...          ...          ...   \n",
       "1999967  1248.614014  0.914459    0.0  796.106995  1808.091431  1975.596313   \n",
       "1999968  1334.905396 -0.925830    0.0  333.614014  1949.072510  1977.418091   \n",
       "1999969  1445.893555  0.677494    0.0   77.524902  1790.612549  1792.290039   \n",
       "1999970  1528.553223  0.149591    0.0  632.781006  1545.687744  1670.198242   \n",
       "1999971  1834.872437 -0.119892    0.0  100.477997  1848.075439  1850.804810   \n",
       "\n",
       "          tau21j1   tau32j1         ptj2     etaj2  ...         pzj1  \\\n",
       "0        0.579902  0.638047   868.532654 -0.128372  ...     1.169330   \n",
       "1        0.229670  0.612559  1092.055298 -0.293390  ...  -865.270020   \n",
       "2        0.731174  0.742621  1332.402100  0.928036  ...  -321.303009   \n",
       "3        0.603133  0.496088   995.841614 -1.301034  ...  2056.659912   \n",
       "4        0.204270  0.410674  1288.684082 -1.192335  ...   -59.776699   \n",
       "...           ...       ...          ...       ...  ...          ...   \n",
       "1999967  0.495325  0.571873  1197.468262  0.034504  ...  1307.729980   \n",
       "1999968  0.713051  0.760998  1283.567627  0.982051  ... -1420.180054   \n",
       "1999969  0.600804  0.573244  1423.780884  0.111384  ...  1056.260010   \n",
       "1999970  0.209634  0.455536  1471.029907  0.543611  ...   229.511993   \n",
       "1999971  0.276693  0.966118  1792.053467 -0.195807  ...  -220.513000   \n",
       "\n",
       "                pxj2        pyj2         pzj2        pxjj        pyjj  \\\n",
       "0        -864.816162   80.261513  -111.802002  369.869843   80.261513   \n",
       "1       -1091.875000   19.845547  -325.015015  157.638855   19.845547   \n",
       "2       -1231.342896 -509.008698  1421.810059  661.205688 -509.008698   \n",
       "3        -985.330383 -144.307114 -1693.349976  232.128693 -144.307114   \n",
       "4       -1272.782593 -201.819687 -1927.390015   60.121284 -201.819687   \n",
       "...              ...         ...          ...         ...         ...   \n",
       "1999967 -1197.383911   14.218256    41.325802   51.230145   14.218256   \n",
       "1999968 -1279.354858 -103.908821  1473.140015   55.550514 -103.908821   \n",
       "1999969 -1372.896118  377.237518   158.914001   72.997498  377.237518   \n",
       "1999970 -1467.661377  -99.493774   839.638977   60.891781  -99.493774   \n",
       "1999971 -1791.374756  -49.317558  -353.144012   43.497696  -49.317558   \n",
       "\n",
       "                pzjj          ejj          pjj          mjj  \n",
       "0        -110.632675  2132.947021   394.316132  2096.181641  \n",
       "1       -1190.285034  2681.056885  1200.842285  2397.090820  \n",
       "2        1100.507080  3956.002441  1381.086060  3707.095459  \n",
       "3         363.309937  4400.079102   454.645325  4376.527832  \n",
       "4       -1987.166748  3656.705566  1998.293579  3062.404053  \n",
       "...              ...          ...          ...          ...  \n",
       "1999967  1349.055786  3174.208740  1350.103027  2872.772705  \n",
       "1999968    52.959961  3935.302490   129.180725  3933.181641  \n",
       "1999969  1215.174072  3285.281494  1274.474243  3028.000732  \n",
       "1999970  1069.151001  3374.546143  1075.495483  3198.573242  \n",
       "1999971  -573.656982  3683.544678   577.413757  3638.006836  \n",
       "\n",
       "[1999972 rows x 28 columns]"
      ],
      "text/html": "<div>\n<style scoped>\n    .dataframe tbody tr th:only-of-type {\n        vertical-align: middle;\n    }\n\n    .dataframe tbody tr th {\n        vertical-align: top;\n    }\n\n    .dataframe thead th {\n        text-align: right;\n    }\n</style>\n<table border=\"1\" class=\"dataframe\">\n  <thead>\n    <tr style=\"text-align: right;\">\n      <th></th>\n      <th>ptj1</th>\n      <th>etaj1</th>\n      <th>phij1</th>\n      <th>mj1</th>\n      <th>pj1</th>\n      <th>ej1</th>\n      <th>tau21j1</th>\n      <th>tau32j1</th>\n      <th>ptj2</th>\n      <th>etaj2</th>\n      <th>...</th>\n      <th>pzj1</th>\n      <th>pxj2</th>\n      <th>pyj2</th>\n      <th>pzj2</th>\n      <th>pxjj</th>\n      <th>pyjj</th>\n      <th>pzjj</th>\n      <th>ejj</th>\n      <th>pjj</th>\n      <th>mjj</th>\n    </tr>\n  </thead>\n  <tbody>\n    <tr>\n      <th>0</th>\n      <td>1234.686035</td>\n      <td>0.000947</td>\n      <td>0.0</td>\n      <td>223.070007</td>\n      <td>1234.686523</td>\n      <td>1254.675781</td>\n      <td>0.579902</td>\n      <td>0.638047</td>\n      <td>868.532654</td>\n      <td>-0.128372</td>\n      <td>...</td>\n      <td>1.169330</td>\n      <td>-864.816162</td>\n      <td>80.261513</td>\n      <td>-111.802002</td>\n      <td>369.869843</td>\n      <td>80.261513</td>\n      <td>-110.632675</td>\n      <td>2132.947021</td>\n      <td>394.316132</td>\n      <td>2096.181641</td>\n    </tr>\n    <tr>\n      <th>1</th>\n      <td>1249.513794</td>\n      <td>-0.646499</td>\n      <td>0.0</td>\n      <td>242.136002</td>\n      <td>1519.860840</td>\n      <td>1539.027832</td>\n      <td>0.229670</td>\n      <td>0.612559</td>\n      <td>1092.055298</td>\n      <td>-0.293390</td>\n      <td>...</td>\n      <td>-865.270020</td>\n      <td>-1091.875000</td>\n      <td>19.845547</td>\n      <td>-325.015015</td>\n      <td>157.638855</td>\n      <td>19.845547</td>\n      <td>-1190.285034</td>\n      <td>2681.056885</td>\n      <td>1200.842285</td>\n      <td>2397.090820</td>\n    </tr>\n    <tr>\n      <th>2</th>\n      <td>1892.548584</td>\n      <td>-0.168968</td>\n      <td>0.0</td>\n      <td>95.748199</td>\n      <td>1919.629150</td>\n      <td>1922.015503</td>\n      <td>0.731174</td>\n      <td>0.742621</td>\n      <td>1332.402100</td>\n      <td>0.928036</td>\n      <td>...</td>\n      <td>-321.303009</td>\n      <td>-1231.342896</td>\n      <td>-509.008698</td>\n      <td>1421.810059</td>\n      <td>661.205688</td>\n      <td>-509.008698</td>\n      <td>1100.507080</td>\n      <td>3956.002441</td>\n      <td>1381.086060</td>\n      <td>3707.095459</td>\n    </tr>\n    <tr>\n      <th>3</th>\n      <td>1217.459106</td>\n      <td>1.295385</td>\n      <td>0.0</td>\n      <td>440.657013</td>\n      <td>2389.990967</td>\n      <td>2430.274658</td>\n      <td>0.603133</td>\n      <td>0.496088</td>\n      <td>995.841614</td>\n      <td>-1.301034</td>\n      <td>...</td>\n      <td>2056.659912</td>\n      <td>-985.330383</td>\n      <td>-144.307114</td>\n      <td>-1693.349976</td>\n      <td>232.128693</td>\n      <td>-144.307114</td>\n      <td>363.309937</td>\n      <td>4400.079102</td>\n      <td>454.645325</td>\n      <td>4376.527832</td>\n    </tr>\n    <tr>\n      <th>4</th>\n      <td>1332.903809</td>\n      <td>-0.044832</td>\n      <td>0.0</td>\n      <td>51.966702</td>\n      <td>1334.243530</td>\n      <td>1335.255127</td>\n      <td>0.204270</td>\n      <td>0.410674</td>\n      <td>1288.684082</td>\n      <td>-1.192335</td>\n      <td>...</td>\n      <td>-59.776699</td>\n      <td>-1272.782593</td>\n      <td>-201.819687</td>\n      <td>-1927.390015</td>\n      <td>60.121284</td>\n      <td>-201.819687</td>\n      <td>-1987.166748</td>\n      <td>3656.705566</td>\n      <td>1998.293579</td>\n      <td>3062.404053</td>\n    </tr>\n    <tr>\n      <th>...</th>\n      <td>...</td>\n      <td>...</td>\n      <td>...</td>\n      <td>...</td>\n      <td>...</td>\n      <td>...</td>\n      <td>...</td>\n      <td>...</td>\n      <td>...</td>\n      <td>...</td>\n      <td>...</td>\n      <td>...</td>\n      <td>...</td>\n      <td>...</td>\n      <td>...</td>\n      <td>...</td>\n      <td>...</td>\n      <td>...</td>\n      <td>...</td>\n      <td>...</td>\n      <td>...</td>\n    </tr>\n    <tr>\n      <th>1999967</th>\n      <td>1248.614014</td>\n      <td>0.914459</td>\n      <td>0.0</td>\n      <td>796.106995</td>\n      <td>1808.091431</td>\n      <td>1975.596313</td>\n      <td>0.495325</td>\n      <td>0.571873</td>\n      <td>1197.468262</td>\n      <td>0.034504</td>\n      <td>...</td>\n      <td>1307.729980</td>\n      <td>-1197.383911</td>\n      <td>14.218256</td>\n      <td>41.325802</td>\n      <td>51.230145</td>\n      <td>14.218256</td>\n      <td>1349.055786</td>\n      <td>3174.208740</td>\n      <td>1350.103027</td>\n      <td>2872.772705</td>\n    </tr>\n    <tr>\n      <th>1999968</th>\n      <td>1334.905396</td>\n      <td>-0.925830</td>\n      <td>0.0</td>\n      <td>333.614014</td>\n      <td>1949.072510</td>\n      <td>1977.418091</td>\n      <td>0.713051</td>\n      <td>0.760998</td>\n      <td>1283.567627</td>\n      <td>0.982051</td>\n      <td>...</td>\n      <td>-1420.180054</td>\n      <td>-1279.354858</td>\n      <td>-103.908821</td>\n      <td>1473.140015</td>\n      <td>55.550514</td>\n      <td>-103.908821</td>\n      <td>52.959961</td>\n      <td>3935.302490</td>\n      <td>129.180725</td>\n      <td>3933.181641</td>\n    </tr>\n    <tr>\n      <th>1999969</th>\n      <td>1445.893555</td>\n      <td>0.677494</td>\n      <td>0.0</td>\n      <td>77.524902</td>\n      <td>1790.612549</td>\n      <td>1792.290039</td>\n      <td>0.600804</td>\n      <td>0.573244</td>\n      <td>1423.780884</td>\n      <td>0.111384</td>\n      <td>...</td>\n      <td>1056.260010</td>\n      <td>-1372.896118</td>\n      <td>377.237518</td>\n      <td>158.914001</td>\n      <td>72.997498</td>\n      <td>377.237518</td>\n      <td>1215.174072</td>\n      <td>3285.281494</td>\n      <td>1274.474243</td>\n      <td>3028.000732</td>\n    </tr>\n    <tr>\n      <th>1999970</th>\n      <td>1528.553223</td>\n      <td>0.149591</td>\n      <td>0.0</td>\n      <td>632.781006</td>\n      <td>1545.687744</td>\n      <td>1670.198242</td>\n      <td>0.209634</td>\n      <td>0.455536</td>\n      <td>1471.029907</td>\n      <td>0.543611</td>\n      <td>...</td>\n      <td>229.511993</td>\n      <td>-1467.661377</td>\n      <td>-99.493774</td>\n      <td>839.638977</td>\n      <td>60.891781</td>\n      <td>-99.493774</td>\n      <td>1069.151001</td>\n      <td>3374.546143</td>\n      <td>1075.495483</td>\n      <td>3198.573242</td>\n    </tr>\n    <tr>\n      <th>1999971</th>\n      <td>1834.872437</td>\n      <td>-0.119892</td>\n      <td>0.0</td>\n      <td>100.477997</td>\n      <td>1848.075439</td>\n      <td>1850.804810</td>\n      <td>0.276693</td>\n      <td>0.966118</td>\n      <td>1792.053467</td>\n      <td>-0.195807</td>\n      <td>...</td>\n      <td>-220.513000</td>\n      <td>-1791.374756</td>\n      <td>-49.317558</td>\n      <td>-353.144012</td>\n      <td>43.497696</td>\n      <td>-49.317558</td>\n      <td>-573.656982</td>\n      <td>3683.544678</td>\n      <td>577.413757</td>\n      <td>3638.006836</td>\n    </tr>\n  </tbody>\n</table>\n<p>1999972 rows × 28 columns</p>\n</div>"
     },
     "metadata": {},
     "execution_count": 30
    }
   ],
   "source": [
    "d"
   ]
  },
  {
   "cell_type": "code",
   "execution_count": null,
   "metadata": {},
   "outputs": [],
   "source": []
  }
 ]
}